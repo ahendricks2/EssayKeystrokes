{
 "cells": [
  {
   "cell_type": "markdown",
   "metadata": {},
   "source": [
    "# Linking Writing Processes to Writing Quality Project"
   ]
  },
  {
   "cell_type": "markdown",
   "metadata": {},
   "source": [
    "This project is based on the Kaggle competition [Linking Writing Processes to Writing Quality](https://www.kaggle.com/competitions/linking-writing-processes-to-writing-quality). The train data set for the competition includes scores for about 2.7k essays as well as a set of logs with thousands of records for each essay with over 8 million records total.  \n",
    "  \n",
    "The goal of the project is to use the data about each student's writing process to predict the score that they receive on their essay while minimizing rmse.  The challenge of the project is that the logs do not include any text from the essay, including the specific letters that each writer uses. The predictions have to be made only from the writing process behaviors.\n",
    "\n",
    "My project includes two notebooks: one for preprocessing and one for modeling."
   ]
  },
  {
   "cell_type": "markdown",
   "metadata": {},
   "source": [
    "## Project Summary"
   ]
  },
  {
   "cell_type": "markdown",
   "metadata": {},
   "source": [
    "![Project Summary](https://raw.githubusercontent.com/ahendricks2/EssayKeystrokes/main/Images/Project_Summary.png)"
   ]
  },
  {
   "cell_type": "markdown",
   "metadata": {},
   "source": [
    "## Preprocessing Notebook Description"
   ]
  },
  {
   "cell_type": "markdown",
   "metadata": {},
   "source": [
    "In this notebook, I preprocess the data for the competition.  \n",
    "  \n",
    "The competition data contains thousands of logs for each essay. I aggregate the logs into a single set of features for each essay to prepare for modeling. I also perform feature engineering and exploratory data analysis throughout the process. At the end of the notebook, I gather all of the preprocessing steps into a single function that I use to preprocess the data both for the modeling notebook and the Kaggle competition.  \n",
    "  \n",
    "Below, I include some basic information about the competition data from the Kaggle competition page to provide the business context for the project."
   ]
  },
  {
   "cell_type": "markdown",
   "metadata": {},
   "source": [
    "## Keystroke Data Collection Procedure"
   ]
  },
  {
   "cell_type": "markdown",
   "metadata": {},
   "source": [
    "From [Kaggle competition page](https://www.kaggle.com/competitions/linking-writing-processes-to-writing-quality/overview)"
   ]
  },
  {
   "cell_type": "markdown",
   "metadata": {},
   "source": [
    "Participants of this project were hired from Amazon Mechanical Turk, a crowdsourcing platform. They were invited to log onto a website that housed a demographic survey, a series of typing tests, an argumentative writing task, and a vocabulary knowledge test. Participants were required to use only computers with a keyboard.\n",
    "\n",
    "During the argumentative writing task, participants were asked to write an argumentative essay within 30 minutes in response to a writing prompt adapted from a retired Scholastic Assessment Test (SAT) taken by high school students attempting to enter post-secondary institutions in the United States. To control for potential prompt effects, four SAT-based writing prompts were used and each participant was randomly assigned one prompt. Prior to the writing task, instructions were presented on the integral components in an argumentative essay (e.g., introduction, position, reasons and evidence) along with descriptions of their functions in argumentation. The instructions pages also introduced a set of rules for the writing task. These include that participants should write an essay of at least 200 words in 3 paragraphs and that they should not use any online or offline reference materials. To make sure participants stayed focused on the task during writing and to track behavior, the writing task page issued warnings whenever the participant was detected inactive for more than 2 minutes or moved to a new window in the process of writing."
   ]
  },
  {
   "cell_type": "markdown",
   "metadata": {},
   "source": [
    "## Data Description"
   ]
  },
  {
   "cell_type": "markdown",
   "metadata": {},
   "source": [
    "From [Kaggle competition page](https://www.kaggle.com/competitions/linking-writing-processes-to-writing-quality/data)"
   ]
  },
  {
   "cell_type": "markdown",
   "metadata": {},
   "source": [
    "**train_logs.csv** - Input logs to be used as training data. To prevent reproduction of the essay text, all alphanumeric character inputs have been replaced with the \"anonymous\" character q; punctuation and other special characters have not been anonymized.\n",
    "  \n",
    "* id - The unique ID of the essay\n",
    "* event_id - The index of the event, ordered chronologically  \n",
    "* down_time - The time of the down event in milliseconds  \n",
    "* up_time - The time of the up event in milliseconds  \n",
    "* action_time - The duration of the event (the difference between down_time and up_time)  \n",
    "* activity - The category of activity which the event belongs to\n",
    "* Nonproduction - The event does not alter the text in any way\n",
    "* Input - The event adds text to the essay\n",
    "* Remove/Cut - The event removes text from the essay\n",
    "* Paste - The event changes the text through a paste input\n",
    "* Replace - The event replaces a section of text with another string\n",
    "* Move From [x1, y1] To [x2, y2] - The event moves a section of text spanning character index x1, y1 to a new location x2, y2\n",
    "* down_event - The name of the event when the key/mouse is pressed\n",
    "* up_event - The name of the event when the key/mouse is released\n",
    "* text_change - The text that changed as a result of the event (if any)\n",
    "* cursor_position - The character index of the text cursor after the event\n",
    "* word_count - The word count of the essay after the event\n",
    "    \n",
    "**Note:** Key_down and key_up events may not necessarily occur in the same order as they are presented in the dataset. To illustrate, a writer may press down \"a\" and then press down \"b\" before he/she even releases \"a\". However, all the keystroke information about \"a\" comes before \"b\" in the dataframe.\n",
    "  \n",
    "**test_logs.csv** - Input logs to be used as test data. Contains the same fields as train_logs.csv. The logs available in the public version of this file are only examples to illustrate the format.  \n",
    "    \n",
    "**train_scores.csv**  \n",
    "* id - The unique ID of the essay\n",
    "* score - The score the essay received out of 6 (the prediction target for the competition)"
   ]
  },
  {
   "cell_type": "markdown",
   "metadata": {},
   "source": [
    "## 1. Importing the Data and Initial Review"
   ]
  },
  {
   "cell_type": "markdown",
   "metadata": {},
   "source": [
    "### 1a. Imports and Shape"
   ]
  },
  {
   "cell_type": "code",
   "execution_count": 1,
   "metadata": {},
   "outputs": [],
   "source": [
    "import matplotlib.pyplot as plt\n",
    "from matplotlib.ticker import FuncFormatter\n",
    "%matplotlib inline\n",
    "\n",
    "import numpy as np\n",
    "import pandas as pd\n",
    "import seaborn as sns\n",
    "\n",
    "from sklearn.compose import ColumnTransformer\n",
    "from sklearn.linear_model import Lasso\n",
    "from sklearn.pipeline import Pipeline\n",
    "from sklearn.preprocessing import StandardScaler\n",
    "\n",
    "import warnings\n",
    "warnings.simplefilter(action='ignore', category=FutureWarning)"
   ]
  },
  {
   "cell_type": "code",
   "execution_count": 2,
   "metadata": {},
   "outputs": [],
   "source": [
    "train_df = pd.read_csv('Data/train_logs.csv')"
   ]
  },
  {
   "cell_type": "code",
   "execution_count": 3,
   "metadata": {},
   "outputs": [
    {
     "data": {
      "text/plain": [
       "(8405898, 11)"
      ]
     },
     "execution_count": 3,
     "metadata": {},
     "output_type": "execute_result"
    }
   ],
   "source": [
    "train_df.shape"
   ]
  },
  {
   "cell_type": "code",
   "execution_count": 4,
   "metadata": {},
   "outputs": [],
   "source": [
    "train_scores_df = pd.read_csv('Data/train_scores.csv')"
   ]
  },
  {
   "cell_type": "code",
   "execution_count": 5,
   "metadata": {},
   "outputs": [
    {
     "data": {
      "text/plain": [
       "(2471, 2)"
      ]
     },
     "execution_count": 5,
     "metadata": {},
     "output_type": "execute_result"
    }
   ],
   "source": [
    "train_scores_df.shape"
   ]
  },
  {
   "cell_type": "markdown",
   "metadata": {},
   "source": [
    "While the train logs have over 8 million records, the train scores have only about 2.5k records. That means that there are around 3k train log records for each train score record."
   ]
  },
  {
   "cell_type": "markdown",
   "metadata": {},
   "source": [
    "### 1b. Train Log Data"
   ]
  },
  {
   "cell_type": "code",
   "execution_count": 6,
   "metadata": {},
   "outputs": [
    {
     "data": {
      "text/html": [
       "<div>\n",
       "<style scoped>\n",
       "    .dataframe tbody tr th:only-of-type {\n",
       "        vertical-align: middle;\n",
       "    }\n",
       "\n",
       "    .dataframe tbody tr th {\n",
       "        vertical-align: top;\n",
       "    }\n",
       "\n",
       "    .dataframe thead th {\n",
       "        text-align: right;\n",
       "    }\n",
       "</style>\n",
       "<table border=\"1\" class=\"dataframe\">\n",
       "  <thead>\n",
       "    <tr style=\"text-align: right;\">\n",
       "      <th></th>\n",
       "      <th>id</th>\n",
       "      <th>event_id</th>\n",
       "      <th>down_time</th>\n",
       "      <th>up_time</th>\n",
       "      <th>action_time</th>\n",
       "      <th>activity</th>\n",
       "      <th>down_event</th>\n",
       "      <th>up_event</th>\n",
       "      <th>text_change</th>\n",
       "      <th>cursor_position</th>\n",
       "      <th>word_count</th>\n",
       "    </tr>\n",
       "  </thead>\n",
       "  <tbody>\n",
       "    <tr>\n",
       "      <th>0</th>\n",
       "      <td>001519c8</td>\n",
       "      <td>1</td>\n",
       "      <td>4526</td>\n",
       "      <td>4557</td>\n",
       "      <td>31</td>\n",
       "      <td>Nonproduction</td>\n",
       "      <td>Leftclick</td>\n",
       "      <td>Leftclick</td>\n",
       "      <td>NoChange</td>\n",
       "      <td>0</td>\n",
       "      <td>0</td>\n",
       "    </tr>\n",
       "    <tr>\n",
       "      <th>1</th>\n",
       "      <td>001519c8</td>\n",
       "      <td>2</td>\n",
       "      <td>4558</td>\n",
       "      <td>4962</td>\n",
       "      <td>404</td>\n",
       "      <td>Nonproduction</td>\n",
       "      <td>Leftclick</td>\n",
       "      <td>Leftclick</td>\n",
       "      <td>NoChange</td>\n",
       "      <td>0</td>\n",
       "      <td>0</td>\n",
       "    </tr>\n",
       "    <tr>\n",
       "      <th>2</th>\n",
       "      <td>001519c8</td>\n",
       "      <td>3</td>\n",
       "      <td>106571</td>\n",
       "      <td>106571</td>\n",
       "      <td>0</td>\n",
       "      <td>Nonproduction</td>\n",
       "      <td>Shift</td>\n",
       "      <td>Shift</td>\n",
       "      <td>NoChange</td>\n",
       "      <td>0</td>\n",
       "      <td>0</td>\n",
       "    </tr>\n",
       "    <tr>\n",
       "      <th>3</th>\n",
       "      <td>001519c8</td>\n",
       "      <td>4</td>\n",
       "      <td>106686</td>\n",
       "      <td>106777</td>\n",
       "      <td>91</td>\n",
       "      <td>Input</td>\n",
       "      <td>q</td>\n",
       "      <td>q</td>\n",
       "      <td>q</td>\n",
       "      <td>1</td>\n",
       "      <td>1</td>\n",
       "    </tr>\n",
       "    <tr>\n",
       "      <th>4</th>\n",
       "      <td>001519c8</td>\n",
       "      <td>5</td>\n",
       "      <td>107196</td>\n",
       "      <td>107323</td>\n",
       "      <td>127</td>\n",
       "      <td>Input</td>\n",
       "      <td>q</td>\n",
       "      <td>q</td>\n",
       "      <td>q</td>\n",
       "      <td>2</td>\n",
       "      <td>1</td>\n",
       "    </tr>\n",
       "  </tbody>\n",
       "</table>\n",
       "</div>"
      ],
      "text/plain": [
       "         id  event_id  down_time  up_time  action_time       activity  \\\n",
       "0  001519c8         1       4526     4557           31  Nonproduction   \n",
       "1  001519c8         2       4558     4962          404  Nonproduction   \n",
       "2  001519c8         3     106571   106571            0  Nonproduction   \n",
       "3  001519c8         4     106686   106777           91          Input   \n",
       "4  001519c8         5     107196   107323          127          Input   \n",
       "\n",
       "  down_event   up_event text_change  cursor_position  word_count  \n",
       "0  Leftclick  Leftclick    NoChange                0           0  \n",
       "1  Leftclick  Leftclick    NoChange                0           0  \n",
       "2      Shift      Shift    NoChange                0           0  \n",
       "3          q          q           q                1           1  \n",
       "4          q          q           q                2           1  "
      ]
     },
     "execution_count": 6,
     "metadata": {},
     "output_type": "execute_result"
    }
   ],
   "source": [
    "train_df.head()"
   ]
  },
  {
   "cell_type": "markdown",
   "metadata": {},
   "source": [
    "Looking at the head of the dataframe shows the information that is available for each essay. In general, the data includes the time and position of every mouse click and key stroke. For each of these actions, the data includes the cursor position and word count. Knowing that this data needs to be aggregated to use it with the scores, some categories could include the total action time, the number of events, the final word count, and the time spent on each activity type."
   ]
  },
  {
   "cell_type": "code",
   "execution_count": 7,
   "metadata": {},
   "outputs": [
    {
     "name": "stdout",
     "output_type": "stream",
     "text": [
      "<class 'pandas.core.frame.DataFrame'>\n",
      "RangeIndex: 8405898 entries, 0 to 8405897\n",
      "Data columns (total 11 columns):\n",
      " #   Column           Dtype \n",
      "---  ------           ----- \n",
      " 0   id               object\n",
      " 1   event_id         int64 \n",
      " 2   down_time        int64 \n",
      " 3   up_time          int64 \n",
      " 4   action_time      int64 \n",
      " 5   activity         object\n",
      " 6   down_event       object\n",
      " 7   up_event         object\n",
      " 8   text_change      object\n",
      " 9   cursor_position  int64 \n",
      " 10  word_count       int64 \n",
      "dtypes: int64(6), object(5)\n",
      "memory usage: 705.5+ MB\n"
     ]
    }
   ],
   "source": [
    "train_df.info()"
   ]
  },
  {
   "cell_type": "markdown",
   "metadata": {},
   "source": [
    "Other than the id, there are 9 features-- a mix of object and integer data types."
   ]
  },
  {
   "cell_type": "code",
   "execution_count": 8,
   "metadata": {},
   "outputs": [
    {
     "data": {
      "text/plain": [
       "id                 0\n",
       "event_id           0\n",
       "down_time          0\n",
       "up_time            0\n",
       "action_time        0\n",
       "activity           0\n",
       "down_event         0\n",
       "up_event           0\n",
       "text_change        0\n",
       "cursor_position    0\n",
       "word_count         0\n",
       "dtype: int64"
      ]
     },
     "execution_count": 8,
     "metadata": {},
     "output_type": "execute_result"
    }
   ],
   "source": [
    "train_df.isna().sum()"
   ]
  },
  {
   "cell_type": "markdown",
   "metadata": {},
   "source": [
    "There are no null values."
   ]
  },
  {
   "cell_type": "markdown",
   "metadata": {},
   "source": [
    "### 1c. Train Score Data"
   ]
  },
  {
   "cell_type": "code",
   "execution_count": 9,
   "metadata": {},
   "outputs": [
    {
     "data": {
      "text/html": [
       "<div>\n",
       "<style scoped>\n",
       "    .dataframe tbody tr th:only-of-type {\n",
       "        vertical-align: middle;\n",
       "    }\n",
       "\n",
       "    .dataframe tbody tr th {\n",
       "        vertical-align: top;\n",
       "    }\n",
       "\n",
       "    .dataframe thead th {\n",
       "        text-align: right;\n",
       "    }\n",
       "</style>\n",
       "<table border=\"1\" class=\"dataframe\">\n",
       "  <thead>\n",
       "    <tr style=\"text-align: right;\">\n",
       "      <th></th>\n",
       "      <th>id</th>\n",
       "      <th>score</th>\n",
       "    </tr>\n",
       "  </thead>\n",
       "  <tbody>\n",
       "    <tr>\n",
       "      <th>0</th>\n",
       "      <td>001519c8</td>\n",
       "      <td>3.5</td>\n",
       "    </tr>\n",
       "    <tr>\n",
       "      <th>1</th>\n",
       "      <td>0022f953</td>\n",
       "      <td>3.5</td>\n",
       "    </tr>\n",
       "    <tr>\n",
       "      <th>2</th>\n",
       "      <td>0042269b</td>\n",
       "      <td>6.0</td>\n",
       "    </tr>\n",
       "    <tr>\n",
       "      <th>3</th>\n",
       "      <td>0059420b</td>\n",
       "      <td>2.0</td>\n",
       "    </tr>\n",
       "    <tr>\n",
       "      <th>4</th>\n",
       "      <td>0075873a</td>\n",
       "      <td>4.0</td>\n",
       "    </tr>\n",
       "  </tbody>\n",
       "</table>\n",
       "</div>"
      ],
      "text/plain": [
       "         id  score\n",
       "0  001519c8    3.5\n",
       "1  0022f953    3.5\n",
       "2  0042269b    6.0\n",
       "3  0059420b    2.0\n",
       "4  0075873a    4.0"
      ]
     },
     "execution_count": 9,
     "metadata": {},
     "output_type": "execute_result"
    }
   ],
   "source": [
    "train_scores_df.head()"
   ]
  },
  {
   "cell_type": "code",
   "execution_count": 10,
   "metadata": {},
   "outputs": [
    {
     "name": "stdout",
     "output_type": "stream",
     "text": [
      "<class 'pandas.core.frame.DataFrame'>\n",
      "RangeIndex: 2471 entries, 0 to 2470\n",
      "Data columns (total 2 columns):\n",
      " #   Column  Non-Null Count  Dtype  \n",
      "---  ------  --------------  -----  \n",
      " 0   id      2471 non-null   object \n",
      " 1   score   2471 non-null   float64\n",
      "dtypes: float64(1), object(1)\n",
      "memory usage: 38.7+ KB\n"
     ]
    }
   ],
   "source": [
    "train_scores_df.info()"
   ]
  },
  {
   "cell_type": "markdown",
   "metadata": {},
   "source": [
    "This dataframe has fewer than 3,000 records and no nulls. To get a sense of the shape of the data, I create a bar plot to visualize how many essays there are for each score."
   ]
  },
  {
   "cell_type": "code",
   "execution_count": 11,
   "metadata": {},
   "outputs": [],
   "source": [
    "# Creating a variable for the value counts\n",
    "\n",
    "score_vals = train_scores_df['score'].value_counts()"
   ]
  },
  {
   "cell_type": "code",
   "execution_count": 12,
   "metadata": {},
   "outputs": [],
   "source": [
    "# Turning the series into a dataframe\n",
    "\n",
    "score_counts = pd.DataFrame({'Score': score_vals.index, 'Number of Essays': score_vals.values})"
   ]
  },
  {
   "cell_type": "code",
   "execution_count": 13,
   "metadata": {},
   "outputs": [],
   "source": [
    "# Sorting by score for the visualization\n",
    "\n",
    "score_counts.sort_values(by='Score',inplace=True)"
   ]
  },
  {
   "cell_type": "code",
   "execution_count": 14,
   "metadata": {},
   "outputs": [],
   "source": [
    "score_counts.reset_index(inplace=True,drop=True)"
   ]
  },
  {
   "cell_type": "code",
   "execution_count": 15,
   "metadata": {},
   "outputs": [],
   "source": [
    "# Defining a custom color palette for the bars in the bar plot\n",
    "\n",
    "custom_palette = ['#1768AC' if 3 <= score <= 4.5 else '#A2A7A5' for score in score_counts['Score']]"
   ]
  },
  {
   "cell_type": "code",
   "execution_count": 16,
   "metadata": {},
   "outputs": [],
   "source": [
    "score_counts.loc[(score_counts['Score']<=2.5)|(score_counts['Score']>=5),'alpha'] = .5\n",
    "score_counts.loc[(score_counts['Score']>=3)&(score_counts['Score']<=4.5),'alpha'] = 1"
   ]
  },
  {
   "cell_type": "code",
   "execution_count": 17,
   "metadata": {},
   "outputs": [
    {
     "data": {
      "image/png": "[encoded data removed]",
      "text/plain": [
       "<Figure size 864x360 with 1 Axes>"
      ]
     },
     "metadata": {
      "needs_background": "light"
     },
     "output_type": "display_data"
    }
   ],
   "source": [
    "plt.figure(figsize=(12,5))\n",
    "\n",
    "## Using the custom color palette to format the bar plot\n",
    "ax = sns.barplot(x='Score',y='Number of Essays',palette=custom_palette,data=score_counts)\n",
    "\n",
    "# Formatting the title\n",
    "title_text = r\"$\\bf{\" 'Seventy \\ percent \\ of \\ essays' \"}$\" + \" received scores between 3 and 4.5.\"\n",
    "\n",
    "# Creating data labels\n",
    "for p in ax.patches:\n",
    "    height = (p.get_height() - 22)\n",
    "    width = p.get_width()\n",
    "    ax.annotate(f'{height:.0f}', (p.get_x() + width/2, height), ha='center', va='center', color='white', weight='bold')\n",
    "    \n",
    "# Applying different transparencies to different bars\n",
    "for bar, alpha in zip(ax.containers[0], score_counts['alpha']):\n",
    "    bar.set_alpha(alpha)\n",
    "\n",
    "# Formatting labels and ticks and despining\n",
    "plt.title(title_text, loc='left', pad=25, fontsize= 17)\n",
    "plt.xlabel('Score', fontsize=14)\n",
    "plt.xticks(fontsize=12)\n",
    "plt.ylabel('Number of Essays', fontsize=14)\n",
    "plt.yticks(fontsize=12)\n",
    "sns.despine()\n",
    "plt.show();"
   ]
  },
  {
   "cell_type": "markdown",
   "metadata": {},
   "source": [
    "The majority of essays fall within the range of 3 to 4.5 and the distribution of scores is fairly normal."
   ]
  },
  {
   "cell_type": "markdown",
   "metadata": {},
   "source": [
    "## 2. Preparing for Modeling"
   ]
  },
  {
   "cell_type": "markdown",
   "metadata": {},
   "source": [
    "In the following section, I develop a preprocessing function one category at a time to preprocess unseen data from the test set for modeling. I also perform EDA and feature engineering along the way. The action time is recorded in milliseconds."
   ]
  },
  {
   "cell_type": "code",
   "execution_count": 18,
   "metadata": {},
   "outputs": [],
   "source": [
    "full_df = train_scores_df.copy()"
   ]
  },
  {
   "cell_type": "markdown",
   "metadata": {},
   "source": [
    "### 2a. Action Time"
   ]
  },
  {
   "cell_type": "markdown",
   "metadata": {},
   "source": [
    "First, I aggregate the action time data, which represents the cumulative amount of time between each down event and each up event-- essentially, that amount of times that fingers spend on keys."
   ]
  },
  {
   "cell_type": "markdown",
   "metadata": {},
   "source": [
    "#### Aggregating the Data"
   ]
  },
  {
   "cell_type": "code",
   "execution_count": 19,
   "metadata": {},
   "outputs": [
    {
     "data": {
      "text/html": [
       "<div>\n",
       "<style scoped>\n",
       "    .dataframe tbody tr th:only-of-type {\n",
       "        vertical-align: middle;\n",
       "    }\n",
       "\n",
       "    .dataframe tbody tr th {\n",
       "        vertical-align: top;\n",
       "    }\n",
       "\n",
       "    .dataframe thead th {\n",
       "        text-align: right;\n",
       "    }\n",
       "</style>\n",
       "<table border=\"1\" class=\"dataframe\">\n",
       "  <thead>\n",
       "    <tr style=\"text-align: right;\">\n",
       "      <th></th>\n",
       "      <th>id</th>\n",
       "      <th>sum</th>\n",
       "      <th>mean</th>\n",
       "      <th>std</th>\n",
       "      <th>min</th>\n",
       "      <th>max</th>\n",
       "    </tr>\n",
       "  </thead>\n",
       "  <tbody>\n",
       "    <tr>\n",
       "      <th>0</th>\n",
       "      <td>001519c8</td>\n",
       "      <td>297243</td>\n",
       "      <td>116.246774</td>\n",
       "      <td>91.797374</td>\n",
       "      <td>0</td>\n",
       "      <td>2259</td>\n",
       "    </tr>\n",
       "    <tr>\n",
       "      <th>1</th>\n",
       "      <td>0022f953</td>\n",
       "      <td>275391</td>\n",
       "      <td>112.221271</td>\n",
       "      <td>55.431189</td>\n",
       "      <td>0</td>\n",
       "      <td>1758</td>\n",
       "    </tr>\n",
       "    <tr>\n",
       "      <th>2</th>\n",
       "      <td>0042269b</td>\n",
       "      <td>421201</td>\n",
       "      <td>101.837766</td>\n",
       "      <td>82.383766</td>\n",
       "      <td>0</td>\n",
       "      <td>3005</td>\n",
       "    </tr>\n",
       "    <tr>\n",
       "      <th>3</th>\n",
       "      <td>0059420b</td>\n",
       "      <td>189596</td>\n",
       "      <td>121.848329</td>\n",
       "      <td>113.768226</td>\n",
       "      <td>0</td>\n",
       "      <td>806</td>\n",
       "    </tr>\n",
       "    <tr>\n",
       "      <th>4</th>\n",
       "      <td>0075873a</td>\n",
       "      <td>313702</td>\n",
       "      <td>123.943896</td>\n",
       "      <td>62.082013</td>\n",
       "      <td>0</td>\n",
       "      <td>701</td>\n",
       "    </tr>\n",
       "    <tr>\n",
       "      <th>...</th>\n",
       "      <td>...</td>\n",
       "      <td>...</td>\n",
       "      <td>...</td>\n",
       "      <td>...</td>\n",
       "      <td>...</td>\n",
       "      <td>...</td>\n",
       "    </tr>\n",
       "    <tr>\n",
       "      <th>2466</th>\n",
       "      <td>ffb8c745</td>\n",
       "      <td>499670</td>\n",
       "      <td>105.437856</td>\n",
       "      <td>63.622575</td>\n",
       "      <td>0</td>\n",
       "      <td>3323</td>\n",
       "    </tr>\n",
       "    <tr>\n",
       "      <th>2467</th>\n",
       "      <td>ffbef7e5</td>\n",
       "      <td>214221</td>\n",
       "      <td>82.266129</td>\n",
       "      <td>36.178818</td>\n",
       "      <td>0</td>\n",
       "      <td>1144</td>\n",
       "    </tr>\n",
       "    <tr>\n",
       "      <th>2468</th>\n",
       "      <td>ffccd6fd</td>\n",
       "      <td>231580</td>\n",
       "      <td>75.605615</td>\n",
       "      <td>63.494975</td>\n",
       "      <td>0</td>\n",
       "      <td>564</td>\n",
       "    </tr>\n",
       "    <tr>\n",
       "      <th>2469</th>\n",
       "      <td>ffec5b38</td>\n",
       "      <td>289439</td>\n",
       "      <td>89.277915</td>\n",
       "      <td>54.515788</td>\n",
       "      <td>0</td>\n",
       "      <td>1388</td>\n",
       "    </tr>\n",
       "    <tr>\n",
       "      <th>2470</th>\n",
       "      <td>fff05981</td>\n",
       "      <td>301235</td>\n",
       "      <td>83.237082</td>\n",
       "      <td>63.738723</td>\n",
       "      <td>0</td>\n",
       "      <td>1915</td>\n",
       "    </tr>\n",
       "  </tbody>\n",
       "</table>\n",
       "<p>2471 rows × 6 columns</p>\n",
       "</div>"
      ],
      "text/plain": [
       "            id     sum        mean         std  min   max\n",
       "0     001519c8  297243  116.246774   91.797374    0  2259\n",
       "1     0022f953  275391  112.221271   55.431189    0  1758\n",
       "2     0042269b  421201  101.837766   82.383766    0  3005\n",
       "3     0059420b  189596  121.848329  113.768226    0   806\n",
       "4     0075873a  313702  123.943896   62.082013    0   701\n",
       "...        ...     ...         ...         ...  ...   ...\n",
       "2466  ffb8c745  499670  105.437856   63.622575    0  3323\n",
       "2467  ffbef7e5  214221   82.266129   36.178818    0  1144\n",
       "2468  ffccd6fd  231580   75.605615   63.494975    0   564\n",
       "2469  ffec5b38  289439   89.277915   54.515788    0  1388\n",
       "2470  fff05981  301235   83.237082   63.738723    0  1915\n",
       "\n",
       "[2471 rows x 6 columns]"
      ]
     },
     "execution_count": 19,
     "metadata": {},
     "output_type": "execute_result"
    }
   ],
   "source": [
    "# Creating a variable for aggregated action time features\n",
    "\n",
    "action_time_df = train_df.groupby(by='id')['action_time'].agg(['sum','mean','std','min','max']).reset_index()\n",
    "action_time_df"
   ]
  },
  {
   "cell_type": "code",
   "execution_count": 20,
   "metadata": {},
   "outputs": [
    {
     "data": {
      "text/html": [
       "<div>\n",
       "<style scoped>\n",
       "    .dataframe tbody tr th:only-of-type {\n",
       "        vertical-align: middle;\n",
       "    }\n",
       "\n",
       "    .dataframe tbody tr th {\n",
       "        vertical-align: top;\n",
       "    }\n",
       "\n",
       "    .dataframe thead th {\n",
       "        text-align: right;\n",
       "    }\n",
       "</style>\n",
       "<table border=\"1\" class=\"dataframe\">\n",
       "  <thead>\n",
       "    <tr style=\"text-align: right;\">\n",
       "      <th></th>\n",
       "      <th>id</th>\n",
       "      <th>sum_action_time</th>\n",
       "      <th>mean_action_time</th>\n",
       "      <th>std_action_time</th>\n",
       "      <th>min_action_time</th>\n",
       "      <th>max_action_time</th>\n",
       "    </tr>\n",
       "  </thead>\n",
       "  <tbody>\n",
       "    <tr>\n",
       "      <th>0</th>\n",
       "      <td>001519c8</td>\n",
       "      <td>297243</td>\n",
       "      <td>116.246774</td>\n",
       "      <td>91.797374</td>\n",
       "      <td>0</td>\n",
       "      <td>2259</td>\n",
       "    </tr>\n",
       "    <tr>\n",
       "      <th>1</th>\n",
       "      <td>0022f953</td>\n",
       "      <td>275391</td>\n",
       "      <td>112.221271</td>\n",
       "      <td>55.431189</td>\n",
       "      <td>0</td>\n",
       "      <td>1758</td>\n",
       "    </tr>\n",
       "    <tr>\n",
       "      <th>2</th>\n",
       "      <td>0042269b</td>\n",
       "      <td>421201</td>\n",
       "      <td>101.837766</td>\n",
       "      <td>82.383766</td>\n",
       "      <td>0</td>\n",
       "      <td>3005</td>\n",
       "    </tr>\n",
       "    <tr>\n",
       "      <th>3</th>\n",
       "      <td>0059420b</td>\n",
       "      <td>189596</td>\n",
       "      <td>121.848329</td>\n",
       "      <td>113.768226</td>\n",
       "      <td>0</td>\n",
       "      <td>806</td>\n",
       "    </tr>\n",
       "    <tr>\n",
       "      <th>4</th>\n",
       "      <td>0075873a</td>\n",
       "      <td>313702</td>\n",
       "      <td>123.943896</td>\n",
       "      <td>62.082013</td>\n",
       "      <td>0</td>\n",
       "      <td>701</td>\n",
       "    </tr>\n",
       "    <tr>\n",
       "      <th>...</th>\n",
       "      <td>...</td>\n",
       "      <td>...</td>\n",
       "      <td>...</td>\n",
       "      <td>...</td>\n",
       "      <td>...</td>\n",
       "      <td>...</td>\n",
       "    </tr>\n",
       "    <tr>\n",
       "      <th>2466</th>\n",
       "      <td>ffb8c745</td>\n",
       "      <td>499670</td>\n",
       "      <td>105.437856</td>\n",
       "      <td>63.622575</td>\n",
       "      <td>0</td>\n",
       "      <td>3323</td>\n",
       "    </tr>\n",
       "    <tr>\n",
       "      <th>2467</th>\n",
       "      <td>ffbef7e5</td>\n",
       "      <td>214221</td>\n",
       "      <td>82.266129</td>\n",
       "      <td>36.178818</td>\n",
       "      <td>0</td>\n",
       "      <td>1144</td>\n",
       "    </tr>\n",
       "    <tr>\n",
       "      <th>2468</th>\n",
       "      <td>ffccd6fd</td>\n",
       "      <td>231580</td>\n",
       "      <td>75.605615</td>\n",
       "      <td>63.494975</td>\n",
       "      <td>0</td>\n",
       "      <td>564</td>\n",
       "    </tr>\n",
       "    <tr>\n",
       "      <th>2469</th>\n",
       "      <td>ffec5b38</td>\n",
       "      <td>289439</td>\n",
       "      <td>89.277915</td>\n",
       "      <td>54.515788</td>\n",
       "      <td>0</td>\n",
       "      <td>1388</td>\n",
       "    </tr>\n",
       "    <tr>\n",
       "      <th>2470</th>\n",
       "      <td>fff05981</td>\n",
       "      <td>301235</td>\n",
       "      <td>83.237082</td>\n",
       "      <td>63.738723</td>\n",
       "      <td>0</td>\n",
       "      <td>1915</td>\n",
       "    </tr>\n",
       "  </tbody>\n",
       "</table>\n",
       "<p>2471 rows × 6 columns</p>\n",
       "</div>"
      ],
      "text/plain": [
       "            id  sum_action_time  mean_action_time  std_action_time  \\\n",
       "0     001519c8           297243        116.246774        91.797374   \n",
       "1     0022f953           275391        112.221271        55.431189   \n",
       "2     0042269b           421201        101.837766        82.383766   \n",
       "3     0059420b           189596        121.848329       113.768226   \n",
       "4     0075873a           313702        123.943896        62.082013   \n",
       "...        ...              ...               ...              ...   \n",
       "2466  ffb8c745           499670        105.437856        63.622575   \n",
       "2467  ffbef7e5           214221         82.266129        36.178818   \n",
       "2468  ffccd6fd           231580         75.605615        63.494975   \n",
       "2469  ffec5b38           289439         89.277915        54.515788   \n",
       "2470  fff05981           301235         83.237082        63.738723   \n",
       "\n",
       "      min_action_time  max_action_time  \n",
       "0                   0             2259  \n",
       "1                   0             1758  \n",
       "2                   0             3005  \n",
       "3                   0              806  \n",
       "4                   0              701  \n",
       "...               ...              ...  \n",
       "2466                0             3323  \n",
       "2467                0             1144  \n",
       "2468                0              564  \n",
       "2469                0             1388  \n",
       "2470                0             1915  \n",
       "\n",
       "[2471 rows x 6 columns]"
      ]
     },
     "execution_count": 20,
     "metadata": {},
     "output_type": "execute_result"
    }
   ],
   "source": [
    "# Revising column names for clarity\n",
    "\n",
    "action_time_df.columns = ['id', 'sum_action_time', 'mean_action_time', 'std_action_time', 'min_action_time', 'max_action_time']\n",
    "action_time_df"
   ]
  },
  {
   "cell_type": "code",
   "execution_count": 21,
   "metadata": {},
   "outputs": [
    {
     "data": {
      "text/plain": [
       "1800000"
      ]
     },
     "execution_count": 21,
     "metadata": {},
     "output_type": "execute_result"
    }
   ],
   "source": [
    "# Calculating 30 minute writing time in milliseconds\n",
    "\n",
    "30 * 60 * 1000"
   ]
  },
  {
   "cell_type": "code",
   "execution_count": 22,
   "metadata": {},
   "outputs": [],
   "source": [
    "# Calculating the % of the total assignment time used for action time\n",
    "\n",
    "action_time_df['action_time_%_total'] = action_time_df['sum_action_time'] / 1800000"
   ]
  },
  {
   "cell_type": "code",
   "execution_count": 23,
   "metadata": {},
   "outputs": [
    {
     "data": {
      "text/html": [
       "<div>\n",
       "<style scoped>\n",
       "    .dataframe tbody tr th:only-of-type {\n",
       "        vertical-align: middle;\n",
       "    }\n",
       "\n",
       "    .dataframe tbody tr th {\n",
       "        vertical-align: top;\n",
       "    }\n",
       "\n",
       "    .dataframe thead th {\n",
       "        text-align: right;\n",
       "    }\n",
       "</style>\n",
       "<table border=\"1\" class=\"dataframe\">\n",
       "  <thead>\n",
       "    <tr style=\"text-align: right;\">\n",
       "      <th></th>\n",
       "      <th>id</th>\n",
       "      <th>sum_action_time</th>\n",
       "      <th>mean_action_time</th>\n",
       "      <th>std_action_time</th>\n",
       "      <th>min_action_time</th>\n",
       "      <th>max_action_time</th>\n",
       "      <th>action_time_%_total</th>\n",
       "    </tr>\n",
       "  </thead>\n",
       "  <tbody>\n",
       "    <tr>\n",
       "      <th>1562</th>\n",
       "      <td>a50ad9b8</td>\n",
       "      <td>13452</td>\n",
       "      <td>8.423294</td>\n",
       "      <td>38.642843</td>\n",
       "      <td>0</td>\n",
       "      <td>673</td>\n",
       "      <td>0.007473</td>\n",
       "    </tr>\n",
       "    <tr>\n",
       "      <th>851</th>\n",
       "      <td>5a3f0d07</td>\n",
       "      <td>17541</td>\n",
       "      <td>66.950382</td>\n",
       "      <td>22.354027</td>\n",
       "      <td>23</td>\n",
       "      <td>208</td>\n",
       "      <td>0.009745</td>\n",
       "    </tr>\n",
       "    <tr>\n",
       "      <th>1735</th>\n",
       "      <td>b61221f1</td>\n",
       "      <td>19629</td>\n",
       "      <td>14.131749</td>\n",
       "      <td>24.191105</td>\n",
       "      <td>0</td>\n",
       "      <td>172</td>\n",
       "      <td>0.010905</td>\n",
       "    </tr>\n",
       "    <tr>\n",
       "      <th>295</th>\n",
       "      <td>1dc5440c</td>\n",
       "      <td>27303</td>\n",
       "      <td>15.442873</td>\n",
       "      <td>38.582878</td>\n",
       "      <td>0</td>\n",
       "      <td>498</td>\n",
       "      <td>0.015168</td>\n",
       "    </tr>\n",
       "    <tr>\n",
       "      <th>1416</th>\n",
       "      <td>95acfe17</td>\n",
       "      <td>27858</td>\n",
       "      <td>65.241218</td>\n",
       "      <td>23.281103</td>\n",
       "      <td>7</td>\n",
       "      <td>269</td>\n",
       "      <td>0.015477</td>\n",
       "    </tr>\n",
       "    <tr>\n",
       "      <th>...</th>\n",
       "      <td>...</td>\n",
       "      <td>...</td>\n",
       "      <td>...</td>\n",
       "      <td>...</td>\n",
       "      <td>...</td>\n",
       "      <td>...</td>\n",
       "      <td>...</td>\n",
       "    </tr>\n",
       "    <tr>\n",
       "      <th>2018</th>\n",
       "      <td>d3fef198</td>\n",
       "      <td>950927</td>\n",
       "      <td>73.852672</td>\n",
       "      <td>37.220109</td>\n",
       "      <td>0</td>\n",
       "      <td>882</td>\n",
       "      <td>0.528293</td>\n",
       "    </tr>\n",
       "    <tr>\n",
       "      <th>2420</th>\n",
       "      <td>fb2cb7e6</td>\n",
       "      <td>951659</td>\n",
       "      <td>129.301495</td>\n",
       "      <td>113.117859</td>\n",
       "      <td>0</td>\n",
       "      <td>3716</td>\n",
       "      <td>0.528699</td>\n",
       "    </tr>\n",
       "    <tr>\n",
       "      <th>500</th>\n",
       "      <td>347a3473</td>\n",
       "      <td>959581</td>\n",
       "      <td>117.179265</td>\n",
       "      <td>44.476954</td>\n",
       "      <td>0</td>\n",
       "      <td>569</td>\n",
       "      <td>0.533101</td>\n",
       "    </tr>\n",
       "    <tr>\n",
       "      <th>1640</th>\n",
       "      <td>ad5f7cbb</td>\n",
       "      <td>1043640</td>\n",
       "      <td>194.781635</td>\n",
       "      <td>243.665571</td>\n",
       "      <td>0</td>\n",
       "      <td>9999</td>\n",
       "      <td>0.579800</td>\n",
       "    </tr>\n",
       "    <tr>\n",
       "      <th>1685</th>\n",
       "      <td>b1789fc6</td>\n",
       "      <td>1210508</td>\n",
       "      <td>108.868423</td>\n",
       "      <td>85.191965</td>\n",
       "      <td>0</td>\n",
       "      <td>1572</td>\n",
       "      <td>0.672504</td>\n",
       "    </tr>\n",
       "  </tbody>\n",
       "</table>\n",
       "<p>2471 rows × 7 columns</p>\n",
       "</div>"
      ],
      "text/plain": [
       "            id  sum_action_time  mean_action_time  std_action_time  \\\n",
       "1562  a50ad9b8            13452          8.423294        38.642843   \n",
       "851   5a3f0d07            17541         66.950382        22.354027   \n",
       "1735  b61221f1            19629         14.131749        24.191105   \n",
       "295   1dc5440c            27303         15.442873        38.582878   \n",
       "1416  95acfe17            27858         65.241218        23.281103   \n",
       "...        ...              ...               ...              ...   \n",
       "2018  d3fef198           950927         73.852672        37.220109   \n",
       "2420  fb2cb7e6           951659        129.301495       113.117859   \n",
       "500   347a3473           959581        117.179265        44.476954   \n",
       "1640  ad5f7cbb          1043640        194.781635       243.665571   \n",
       "1685  b1789fc6          1210508        108.868423        85.191965   \n",
       "\n",
       "      min_action_time  max_action_time  action_time_%_total  \n",
       "1562                0              673             0.007473  \n",
       "851                23              208             0.009745  \n",
       "1735                0              172             0.010905  \n",
       "295                 0              498             0.015168  \n",
       "1416                7              269             0.015477  \n",
       "...               ...              ...                  ...  \n",
       "2018                0              882             0.528293  \n",
       "2420                0             3716             0.528699  \n",
       "500                 0              569             0.533101  \n",
       "1640                0             9999             0.579800  \n",
       "1685                0             1572             0.672504  \n",
       "\n",
       "[2471 rows x 7 columns]"
      ]
     },
     "execution_count": 23,
     "metadata": {},
     "output_type": "execute_result"
    }
   ],
   "source": [
    "action_time_df.sort_values(by = 'action_time_%_total')"
   ]
  },
  {
   "cell_type": "markdown",
   "metadata": {},
   "source": [
    "The lowest action time was 13 seconds and the highest was 1210 seconds, or about 20 minutes. Action time measures the full duration between down event and up event. It is not a complete measure of overall productivity, but it should at least generally point towards how active each essay writer was."
   ]
  },
  {
   "cell_type": "code",
   "execution_count": 24,
   "metadata": {},
   "outputs": [],
   "source": [
    "# Merging the new features into full_df\n",
    "\n",
    "full_df = pd.merge(full_df, action_time_df, on='id')"
   ]
  },
  {
   "cell_type": "code",
   "execution_count": 25,
   "metadata": {},
   "outputs": [
    {
     "data": {
      "text/html": [
       "<div>\n",
       "<style scoped>\n",
       "    .dataframe tbody tr th:only-of-type {\n",
       "        vertical-align: middle;\n",
       "    }\n",
       "\n",
       "    .dataframe tbody tr th {\n",
       "        vertical-align: top;\n",
       "    }\n",
       "\n",
       "    .dataframe thead th {\n",
       "        text-align: right;\n",
       "    }\n",
       "</style>\n",
       "<table border=\"1\" class=\"dataframe\">\n",
       "  <thead>\n",
       "    <tr style=\"text-align: right;\">\n",
       "      <th></th>\n",
       "      <th>id</th>\n",
       "      <th>score</th>\n",
       "      <th>sum_action_time</th>\n",
       "      <th>mean_action_time</th>\n",
       "      <th>std_action_time</th>\n",
       "      <th>min_action_time</th>\n",
       "      <th>max_action_time</th>\n",
       "      <th>action_time_%_total</th>\n",
       "    </tr>\n",
       "  </thead>\n",
       "  <tbody>\n",
       "    <tr>\n",
       "      <th>0</th>\n",
       "      <td>001519c8</td>\n",
       "      <td>3.5</td>\n",
       "      <td>297243</td>\n",
       "      <td>116.246774</td>\n",
       "      <td>91.797374</td>\n",
       "      <td>0</td>\n",
       "      <td>2259</td>\n",
       "      <td>0.165135</td>\n",
       "    </tr>\n",
       "    <tr>\n",
       "      <th>1</th>\n",
       "      <td>0022f953</td>\n",
       "      <td>3.5</td>\n",
       "      <td>275391</td>\n",
       "      <td>112.221271</td>\n",
       "      <td>55.431189</td>\n",
       "      <td>0</td>\n",
       "      <td>1758</td>\n",
       "      <td>0.152995</td>\n",
       "    </tr>\n",
       "    <tr>\n",
       "      <th>2</th>\n",
       "      <td>0042269b</td>\n",
       "      <td>6.0</td>\n",
       "      <td>421201</td>\n",
       "      <td>101.837766</td>\n",
       "      <td>82.383766</td>\n",
       "      <td>0</td>\n",
       "      <td>3005</td>\n",
       "      <td>0.234001</td>\n",
       "    </tr>\n",
       "    <tr>\n",
       "      <th>3</th>\n",
       "      <td>0059420b</td>\n",
       "      <td>2.0</td>\n",
       "      <td>189596</td>\n",
       "      <td>121.848329</td>\n",
       "      <td>113.768226</td>\n",
       "      <td>0</td>\n",
       "      <td>806</td>\n",
       "      <td>0.105331</td>\n",
       "    </tr>\n",
       "    <tr>\n",
       "      <th>4</th>\n",
       "      <td>0075873a</td>\n",
       "      <td>4.0</td>\n",
       "      <td>313702</td>\n",
       "      <td>123.943896</td>\n",
       "      <td>62.082013</td>\n",
       "      <td>0</td>\n",
       "      <td>701</td>\n",
       "      <td>0.174279</td>\n",
       "    </tr>\n",
       "    <tr>\n",
       "      <th>...</th>\n",
       "      <td>...</td>\n",
       "      <td>...</td>\n",
       "      <td>...</td>\n",
       "      <td>...</td>\n",
       "      <td>...</td>\n",
       "      <td>...</td>\n",
       "      <td>...</td>\n",
       "      <td>...</td>\n",
       "    </tr>\n",
       "    <tr>\n",
       "      <th>2466</th>\n",
       "      <td>ffb8c745</td>\n",
       "      <td>3.5</td>\n",
       "      <td>499670</td>\n",
       "      <td>105.437856</td>\n",
       "      <td>63.622575</td>\n",
       "      <td>0</td>\n",
       "      <td>3323</td>\n",
       "      <td>0.277594</td>\n",
       "    </tr>\n",
       "    <tr>\n",
       "      <th>2467</th>\n",
       "      <td>ffbef7e5</td>\n",
       "      <td>4.0</td>\n",
       "      <td>214221</td>\n",
       "      <td>82.266129</td>\n",
       "      <td>36.178818</td>\n",
       "      <td>0</td>\n",
       "      <td>1144</td>\n",
       "      <td>0.119012</td>\n",
       "    </tr>\n",
       "    <tr>\n",
       "      <th>2468</th>\n",
       "      <td>ffccd6fd</td>\n",
       "      <td>1.5</td>\n",
       "      <td>231580</td>\n",
       "      <td>75.605615</td>\n",
       "      <td>63.494975</td>\n",
       "      <td>0</td>\n",
       "      <td>564</td>\n",
       "      <td>0.128656</td>\n",
       "    </tr>\n",
       "    <tr>\n",
       "      <th>2469</th>\n",
       "      <td>ffec5b38</td>\n",
       "      <td>5.0</td>\n",
       "      <td>289439</td>\n",
       "      <td>89.277915</td>\n",
       "      <td>54.515788</td>\n",
       "      <td>0</td>\n",
       "      <td>1388</td>\n",
       "      <td>0.160799</td>\n",
       "    </tr>\n",
       "    <tr>\n",
       "      <th>2470</th>\n",
       "      <td>fff05981</td>\n",
       "      <td>4.0</td>\n",
       "      <td>301235</td>\n",
       "      <td>83.237082</td>\n",
       "      <td>63.738723</td>\n",
       "      <td>0</td>\n",
       "      <td>1915</td>\n",
       "      <td>0.167353</td>\n",
       "    </tr>\n",
       "  </tbody>\n",
       "</table>\n",
       "<p>2471 rows × 8 columns</p>\n",
       "</div>"
      ],
      "text/plain": [
       "            id  score  sum_action_time  mean_action_time  std_action_time  \\\n",
       "0     001519c8    3.5           297243        116.246774        91.797374   \n",
       "1     0022f953    3.5           275391        112.221271        55.431189   \n",
       "2     0042269b    6.0           421201        101.837766        82.383766   \n",
       "3     0059420b    2.0           189596        121.848329       113.768226   \n",
       "4     0075873a    4.0           313702        123.943896        62.082013   \n",
       "...        ...    ...              ...               ...              ...   \n",
       "2466  ffb8c745    3.5           499670        105.437856        63.622575   \n",
       "2467  ffbef7e5    4.0           214221         82.266129        36.178818   \n",
       "2468  ffccd6fd    1.5           231580         75.605615        63.494975   \n",
       "2469  ffec5b38    5.0           289439         89.277915        54.515788   \n",
       "2470  fff05981    4.0           301235         83.237082        63.738723   \n",
       "\n",
       "      min_action_time  max_action_time  action_time_%_total  \n",
       "0                   0             2259             0.165135  \n",
       "1                   0             1758             0.152995  \n",
       "2                   0             3005             0.234001  \n",
       "3                   0              806             0.105331  \n",
       "4                   0              701             0.174279  \n",
       "...               ...              ...                  ...  \n",
       "2466                0             3323             0.277594  \n",
       "2467                0             1144             0.119012  \n",
       "2468                0              564             0.128656  \n",
       "2469                0             1388             0.160799  \n",
       "2470                0             1915             0.167353  \n",
       "\n",
       "[2471 rows x 8 columns]"
      ]
     },
     "execution_count": 25,
     "metadata": {},
     "output_type": "execute_result"
    }
   ],
   "source": [
    "full_df"
   ]
  },
  {
   "cell_type": "markdown",
   "metadata": {},
   "source": [
    "#### Preparing the data for visualization"
   ]
  },
  {
   "cell_type": "code",
   "execution_count": 26,
   "metadata": {},
   "outputs": [
    {
     "name": "stderr",
     "output_type": "stream",
     "text": [
      "<ipython-input-26-c41ff62eeac6>:4: SettingWithCopyWarning: \n",
      "A value is trying to be set on a copy of a slice from a DataFrame.\n",
      "Try using .loc[row_indexer,col_indexer] = value instead\n",
      "\n",
      "See the caveats in the documentation: https://pandas.pydata.org/pandas-docs/stable/user_guide/indexing.html#returning-a-view-versus-a-copy\n",
      "  viz_data['action_time_mins'] = viz_data['sum_action_time'] / 60000\n"
     ]
    },
    {
     "data": {
      "text/html": [
       "<div>\n",
       "<style scoped>\n",
       "    .dataframe tbody tr th:only-of-type {\n",
       "        vertical-align: middle;\n",
       "    }\n",
       "\n",
       "    .dataframe tbody tr th {\n",
       "        vertical-align: top;\n",
       "    }\n",
       "\n",
       "    .dataframe thead th {\n",
       "        text-align: right;\n",
       "    }\n",
       "</style>\n",
       "<table border=\"1\" class=\"dataframe\">\n",
       "  <thead>\n",
       "    <tr style=\"text-align: right;\">\n",
       "      <th></th>\n",
       "      <th>score</th>\n",
       "      <th>sum_action_time</th>\n",
       "      <th>action_time_mins</th>\n",
       "    </tr>\n",
       "  </thead>\n",
       "  <tbody>\n",
       "    <tr>\n",
       "      <th>0</th>\n",
       "      <td>3.5</td>\n",
       "      <td>297243</td>\n",
       "      <td>4.954050</td>\n",
       "    </tr>\n",
       "    <tr>\n",
       "      <th>1</th>\n",
       "      <td>3.5</td>\n",
       "      <td>275391</td>\n",
       "      <td>4.589850</td>\n",
       "    </tr>\n",
       "    <tr>\n",
       "      <th>2</th>\n",
       "      <td>6.0</td>\n",
       "      <td>421201</td>\n",
       "      <td>7.020017</td>\n",
       "    </tr>\n",
       "    <tr>\n",
       "      <th>3</th>\n",
       "      <td>2.0</td>\n",
       "      <td>189596</td>\n",
       "      <td>3.159933</td>\n",
       "    </tr>\n",
       "    <tr>\n",
       "      <th>4</th>\n",
       "      <td>4.0</td>\n",
       "      <td>313702</td>\n",
       "      <td>5.228367</td>\n",
       "    </tr>\n",
       "    <tr>\n",
       "      <th>...</th>\n",
       "      <td>...</td>\n",
       "      <td>...</td>\n",
       "      <td>...</td>\n",
       "    </tr>\n",
       "    <tr>\n",
       "      <th>2466</th>\n",
       "      <td>3.5</td>\n",
       "      <td>499670</td>\n",
       "      <td>8.327833</td>\n",
       "    </tr>\n",
       "    <tr>\n",
       "      <th>2467</th>\n",
       "      <td>4.0</td>\n",
       "      <td>214221</td>\n",
       "      <td>3.570350</td>\n",
       "    </tr>\n",
       "    <tr>\n",
       "      <th>2468</th>\n",
       "      <td>1.5</td>\n",
       "      <td>231580</td>\n",
       "      <td>3.859667</td>\n",
       "    </tr>\n",
       "    <tr>\n",
       "      <th>2469</th>\n",
       "      <td>5.0</td>\n",
       "      <td>289439</td>\n",
       "      <td>4.823983</td>\n",
       "    </tr>\n",
       "    <tr>\n",
       "      <th>2470</th>\n",
       "      <td>4.0</td>\n",
       "      <td>301235</td>\n",
       "      <td>5.020583</td>\n",
       "    </tr>\n",
       "  </tbody>\n",
       "</table>\n",
       "<p>2471 rows × 3 columns</p>\n",
       "</div>"
      ],
      "text/plain": [
       "      score  sum_action_time  action_time_mins\n",
       "0       3.5           297243          4.954050\n",
       "1       3.5           275391          4.589850\n",
       "2       6.0           421201          7.020017\n",
       "3       2.0           189596          3.159933\n",
       "4       4.0           313702          5.228367\n",
       "...     ...              ...               ...\n",
       "2466    3.5           499670          8.327833\n",
       "2467    4.0           214221          3.570350\n",
       "2468    1.5           231580          3.859667\n",
       "2469    5.0           289439          4.823983\n",
       "2470    4.0           301235          5.020583\n",
       "\n",
       "[2471 rows x 3 columns]"
      ]
     },
     "execution_count": 26,
     "metadata": {},
     "output_type": "execute_result"
    }
   ],
   "source": [
    "# Defining the relevant columns and converting action time to minutes for interpretability\n",
    "\n",
    "viz_data = full_df[['score','sum_action_time']]\n",
    "viz_data['action_time_mins'] = viz_data['sum_action_time'] / 60000\n",
    "viz_data"
   ]
  },
  {
   "cell_type": "code",
   "execution_count": 27,
   "metadata": {},
   "outputs": [
    {
     "name": "stderr",
     "output_type": "stream",
     "text": [
      "<ipython-input-27-4406a3e2016a>:4: SettingWithCopyWarning: \n",
      "A value is trying to be set on a copy of a slice from a DataFrame.\n",
      "Try using .loc[row_indexer,col_indexer] = value instead\n",
      "\n",
      "See the caveats in the documentation: https://pandas.pydata.org/pandas-docs/stable/user_guide/indexing.html#returning-a-view-versus-a-copy\n",
      "  viz_data['bins'] = pd.cut(x=viz_data['action_time_mins'],bins=even_bin_edges,right=False)\n"
     ]
    }
   ],
   "source": [
    "# Creating bins for intependent variable\n",
    "\n",
    "even_bin_edges = [i for i in range(0, int(viz_data['action_time_mins'].max()) + 2, 2)]\n",
    "viz_data['bins'] = pd.cut(x=viz_data['action_time_mins'],bins=even_bin_edges,right=False)"
   ]
  },
  {
   "cell_type": "code",
   "execution_count": 28,
   "metadata": {},
   "outputs": [
    {
     "data": {
      "text/plain": [
       "[2, 4)      751\n",
       "[4, 6)      729\n",
       "[6, 8)      515\n",
       "[8, 10)     267\n",
       "[10, 12)     90\n",
       "[0, 2)       63\n",
       "[12, 14)     33\n",
       "[14, 16)     21\n",
       "[16, 18)      1\n",
       "[18, 20)      0\n",
       "Name: bins, dtype: int64"
      ]
     },
     "execution_count": 28,
     "metadata": {},
     "output_type": "execute_result"
    }
   ],
   "source": [
    "# Reviewing bin sizes\n",
    "\n",
    "viz_data['bins'].value_counts()"
   ]
  },
  {
   "cell_type": "markdown",
   "metadata": {},
   "source": [
    "Because of the low volume of essays that took more than 12 minutes of action time, I make 12 minutes and above the final category for my visualization."
   ]
  },
  {
   "cell_type": "code",
   "execution_count": 29,
   "metadata": {},
   "outputs": [
    {
     "name": "stderr",
     "output_type": "stream",
     "text": [
      "C:\\Users\\Hendricks\\anaconda3\\envs\\learn-env\\lib\\site-packages\\pandas\\core\\indexing.py:1596: SettingWithCopyWarning: \n",
      "A value is trying to be set on a copy of a slice from a DataFrame.\n",
      "Try using .loc[row_indexer,col_indexer] = value instead\n",
      "\n",
      "See the caveats in the documentation: https://pandas.pydata.org/pandas-docs/stable/user_guide/indexing.html#returning-a-view-versus-a-copy\n",
      "  self.obj[key] = _infer_fill_value(value)\n",
      "C:\\Users\\Hendricks\\anaconda3\\envs\\learn-env\\lib\\site-packages\\pandas\\core\\indexing.py:1745: SettingWithCopyWarning: \n",
      "A value is trying to be set on a copy of a slice from a DataFrame.\n",
      "Try using .loc[row_indexer,col_indexer] = value instead\n",
      "\n",
      "See the caveats in the documentation: https://pandas.pydata.org/pandas-docs/stable/user_guide/indexing.html#returning-a-view-versus-a-copy\n",
      "  isetter(ilocs[0], value)\n",
      "C:\\Users\\Hendricks\\anaconda3\\envs\\learn-env\\lib\\site-packages\\pandas\\core\\indexing.py:1765: SettingWithCopyWarning: \n",
      "A value is trying to be set on a copy of a slice from a DataFrame.\n",
      "Try using .loc[row_indexer,col_indexer] = value instead\n",
      "\n",
      "See the caveats in the documentation: https://pandas.pydata.org/pandas-docs/stable/user_guide/indexing.html#returning-a-view-versus-a-copy\n",
      "  isetter(loc, value)\n"
     ]
    }
   ],
   "source": [
    "# Creating a new category for updated bins\n",
    "\n",
    "viz_data.loc[viz_data['action_time_mins']<=12,'viz_action_time'] = viz_data['action_time_mins']\n",
    "viz_data.loc[viz_data['action_time_mins']>12,'viz_action_time'] = 13"
   ]
  },
  {
   "cell_type": "code",
   "execution_count": 30,
   "metadata": {},
   "outputs": [
    {
     "name": "stderr",
     "output_type": "stream",
     "text": [
      "<ipython-input-30-2ef2e14889f7>:4: SettingWithCopyWarning: \n",
      "A value is trying to be set on a copy of a slice from a DataFrame.\n",
      "Try using .loc[row_indexer,col_indexer] = value instead\n",
      "\n",
      "See the caveats in the documentation: https://pandas.pydata.org/pandas-docs/stable/user_guide/indexing.html#returning-a-view-versus-a-copy\n",
      "  viz_data['final_bins'] = pd.cut(x=viz_data['viz_action_time'],bins=final_bin_edges,right=False)\n"
     ]
    }
   ],
   "source": [
    "# Creating final bins\n",
    "\n",
    "final_bin_edges = [0, 2, 4, 6, 8, 10, 12, 14]\n",
    "viz_data['final_bins'] = pd.cut(x=viz_data['viz_action_time'],bins=final_bin_edges,right=False)"
   ]
  },
  {
   "cell_type": "code",
   "execution_count": 31,
   "metadata": {},
   "outputs": [
    {
     "data": {
      "text/plain": [
       "[2, 4)      751\n",
       "[4, 6)      729\n",
       "[6, 8)      515\n",
       "[8, 10)     267\n",
       "[10, 12)     90\n",
       "[0, 2)       63\n",
       "[12, 14)     56\n",
       "Name: final_bins, dtype: int64"
      ]
     },
     "execution_count": 31,
     "metadata": {},
     "output_type": "execute_result"
    }
   ],
   "source": [
    "viz_data['final_bins'].value_counts()"
   ]
  },
  {
   "cell_type": "markdown",
   "metadata": {},
   "source": [
    "Now all of the ranges have at least 50 records."
   ]
  },
  {
   "cell_type": "code",
   "execution_count": 32,
   "metadata": {},
   "outputs": [
    {
     "data": {
      "text/html": [
       "<div>\n",
       "<style scoped>\n",
       "    .dataframe tbody tr th:only-of-type {\n",
       "        vertical-align: middle;\n",
       "    }\n",
       "\n",
       "    .dataframe tbody tr th {\n",
       "        vertical-align: top;\n",
       "    }\n",
       "\n",
       "    .dataframe thead th {\n",
       "        text-align: right;\n",
       "    }\n",
       "</style>\n",
       "<table border=\"1\" class=\"dataframe\">\n",
       "  <thead>\n",
       "    <tr style=\"text-align: right;\">\n",
       "      <th></th>\n",
       "      <th>bins</th>\n",
       "      <th>score</th>\n",
       "    </tr>\n",
       "  </thead>\n",
       "  <tbody>\n",
       "    <tr>\n",
       "      <th>0</th>\n",
       "      <td>[0, 2)</td>\n",
       "      <td>2.333333</td>\n",
       "    </tr>\n",
       "    <tr>\n",
       "      <th>1</th>\n",
       "      <td>[2, 4)</td>\n",
       "      <td>3.027297</td>\n",
       "    </tr>\n",
       "    <tr>\n",
       "      <th>2</th>\n",
       "      <td>[4, 6)</td>\n",
       "      <td>3.758573</td>\n",
       "    </tr>\n",
       "    <tr>\n",
       "      <th>3</th>\n",
       "      <td>[6, 8)</td>\n",
       "      <td>4.167961</td>\n",
       "    </tr>\n",
       "    <tr>\n",
       "      <th>4</th>\n",
       "      <td>[8, 10)</td>\n",
       "      <td>4.406367</td>\n",
       "    </tr>\n",
       "    <tr>\n",
       "      <th>5</th>\n",
       "      <td>[10, 12)</td>\n",
       "      <td>4.700000</td>\n",
       "    </tr>\n",
       "    <tr>\n",
       "      <th>6</th>\n",
       "      <td>[12, 14)</td>\n",
       "      <td>4.714286</td>\n",
       "    </tr>\n",
       "  </tbody>\n",
       "</table>\n",
       "</div>"
      ],
      "text/plain": [
       "       bins     score\n",
       "0    [0, 2)  2.333333\n",
       "1    [2, 4)  3.027297\n",
       "2    [4, 6)  3.758573\n",
       "3    [6, 8)  4.167961\n",
       "4   [8, 10)  4.406367\n",
       "5  [10, 12)  4.700000\n",
       "6  [12, 14)  4.714286"
      ]
     },
     "execution_count": 32,
     "metadata": {},
     "output_type": "execute_result"
    }
   ],
   "source": [
    "# Creating a new dataframe with aggregated data for the visualization\n",
    "\n",
    "viz_series = viz_data.groupby('final_bins')['score'].mean()\n",
    "viz_df = pd.DataFrame({'bins':viz_series.index,'score':viz_series.values})\n",
    "viz_df"
   ]
  },
  {
   "cell_type": "code",
   "execution_count": 33,
   "metadata": {},
   "outputs": [],
   "source": [
    "# Rounding the score to the nearest tenth for visualization\n",
    "\n",
    "viz_df['score'] = round(viz_df['score'],1)"
   ]
  },
  {
   "cell_type": "code",
   "execution_count": 34,
   "metadata": {},
   "outputs": [],
   "source": [
    "# Defining transparency levels for score ranges\n",
    "\n",
    "viz_df.loc[viz_df['score']<=2.5,'alpha'] = 1\n",
    "viz_df.loc[viz_df['score']>2.5,'alpha'] = .3"
   ]
  },
  {
   "cell_type": "code",
   "execution_count": 35,
   "metadata": {},
   "outputs": [],
   "source": [
    "# Defining a custom color palette for the bars in the bar plot\n",
    "\n",
    "custom_palette = ['#F9A620' if score <= 3 else '#A2A7A5' for score in viz_df['score']]"
   ]
  },
  {
   "cell_type": "code",
   "execution_count": 36,
   "metadata": {},
   "outputs": [
    {
     "data": {
      "image/png": "[encoded data removed]",
      "text/plain": [
       "<Figure size 864x360 with 1 Axes>"
      ]
     },
     "metadata": {
      "needs_background": "light"
     },
     "output_type": "display_data"
    }
   ],
   "source": [
    "# Creating the visualization\n",
    "plt.figure(figsize=(12, 5))\n",
    "\n",
    "# Using the custom color palette to format the bar plot\n",
    "ax = sns.barplot(x='score', y='bins', data=viz_df, palette=custom_palette, orient='h', ci=None)\n",
    "\n",
    "# Inverting the y-axis\n",
    "plt.gca().invert_yaxis()\n",
    "\n",
    "# Applying different transparencies to different bars\n",
    "for bar, alpha in zip(ax.containers[0], viz_df['alpha']):\n",
    "    bar.set_alpha(alpha)\n",
    "    \n",
    "# Creating data labels\n",
    "for p, label in zip(ax.patches, viz_df['score']):\n",
    "    width = p.get_width()-.2\n",
    "    ax.annotate(f'{label:.1f}', (width, p.get_y() + p.get_height() / 2),\n",
    "                ha='left', va='center', color='w', weight='bold')\n",
    "\n",
    "# Formatting the title and subtitle\n",
    "title_text = \"The essays with the \" + r\"$\\bf{\" 'lowest \\ action \\ times' \"}$\" + \" tended to earn the \" + r\"$\\bf{\" 'lowest \\ scores.' \"}$\"\n",
    "plt.title(title_text, loc='left', pad=25, fontsize=17)\n",
    "\n",
    "# Formatting axes\n",
    "plt.xlabel('Mean Score', fontsize=14)\n",
    "plt.xticks(fontsize=12)\n",
    "plt.ylabel('Action Time (Mins)', fontsize=14)\n",
    "ytick_positions = range(len(viz_df))\n",
    "yticks_labels = ['0-2','2-4','4-6','6-8','8-10','10-12','12+']\n",
    "plt.yticks(ytick_positions, yticks_labels, fontsize=12)\n",
    "\n",
    "# Final formatting and display\n",
    "sns.despine()\n",
    "plt.show()"
   ]
  },
  {
   "cell_type": "markdown",
   "metadata": {},
   "source": [
    "### 2b. Word Count"
   ]
  },
  {
   "cell_type": "markdown",
   "metadata": {},
   "source": [
    "For the word count category, I start by finding the index for the final record for each essay and taking the word count. Then, I calculate the overall words produced and create a ratio."
   ]
  },
  {
   "cell_type": "markdown",
   "metadata": {},
   "source": [
    "#### Aggregating the Data"
   ]
  },
  {
   "cell_type": "code",
   "execution_count": 37,
   "metadata": {},
   "outputs": [],
   "source": [
    "# Finding the final word count for each essay\n",
    "\n",
    "final_word_count = train_df.groupby('id')['word_count'].last()"
   ]
  },
  {
   "cell_type": "code",
   "execution_count": 38,
   "metadata": {},
   "outputs": [],
   "source": [
    "# Turning the Series into a DataFrame\n",
    "\n",
    "word_count_df = pd.DataFrame({'id':final_word_count.index,'word_count':final_word_count.values})"
   ]
  },
  {
   "cell_type": "markdown",
   "metadata": {},
   "source": [
    "Now, I calculate the overall words produced for each essay."
   ]
  },
  {
   "cell_type": "code",
   "execution_count": 39,
   "metadata": {},
   "outputs": [],
   "source": [
    "# Finding the final event id for each essay\n",
    "\n",
    "final_record_id_series = train_df.groupby('id')['event_id'].last()\n",
    "final_record_ids = final_record_id_series.to_dict()"
   ]
  },
  {
   "cell_type": "code",
   "execution_count": 40,
   "metadata": {},
   "outputs": [],
   "source": [
    "# Calculating total words for each group\n",
    "\n",
    "def total_words(group):\n",
    "    \n",
    "    # Get the final record ID for each group\n",
    "    final_record_id = final_record_ids[group.name]\n",
    "    \n",
    "    # Calculating the overall word count increase\n",
    "    word_counts = group[group['event_id'] <= final_record_id]['word_count']\n",
    "    word_diffs = word_counts.diff().where(lambda x: x > 0).sum()  \n",
    "    \n",
    "    return word_diffs"
   ]
  },
  {
   "cell_type": "code",
   "execution_count": 41,
   "metadata": {},
   "outputs": [
    {
     "data": {
      "text/plain": [
       "id\n",
       "001519c8    348.0\n",
       "0022f953    369.0\n",
       "0042269b    549.0\n",
       "0059420b    244.0\n",
       "0075873a    339.0\n",
       "            ...  \n",
       "ffb8c745    620.0\n",
       "ffbef7e5    450.0\n",
       "ffccd6fd    213.0\n",
       "ffec5b38    472.0\n",
       "fff05981    408.0\n",
       "Length: 2471, dtype: float64"
      ]
     },
     "execution_count": 41,
     "metadata": {},
     "output_type": "execute_result"
    }
   ],
   "source": [
    "# Applying the function to calculate total word count for each essay\n",
    "\n",
    "total_words = train_df.groupby('id').apply(total_words)\n",
    "total_words"
   ]
  },
  {
   "cell_type": "code",
   "execution_count": 42,
   "metadata": {},
   "outputs": [
    {
     "data": {
      "text/html": [
       "<div>\n",
       "<style scoped>\n",
       "    .dataframe tbody tr th:only-of-type {\n",
       "        vertical-align: middle;\n",
       "    }\n",
       "\n",
       "    .dataframe tbody tr th {\n",
       "        vertical-align: top;\n",
       "    }\n",
       "\n",
       "    .dataframe thead th {\n",
       "        text-align: right;\n",
       "    }\n",
       "</style>\n",
       "<table border=\"1\" class=\"dataframe\">\n",
       "  <thead>\n",
       "    <tr style=\"text-align: right;\">\n",
       "      <th></th>\n",
       "      <th>id</th>\n",
       "      <th>word_count</th>\n",
       "      <th>total_words</th>\n",
       "    </tr>\n",
       "  </thead>\n",
       "  <tbody>\n",
       "    <tr>\n",
       "      <th>0</th>\n",
       "      <td>001519c8</td>\n",
       "      <td>255</td>\n",
       "      <td>348.0</td>\n",
       "    </tr>\n",
       "    <tr>\n",
       "      <th>1</th>\n",
       "      <td>0022f953</td>\n",
       "      <td>320</td>\n",
       "      <td>369.0</td>\n",
       "    </tr>\n",
       "    <tr>\n",
       "      <th>2</th>\n",
       "      <td>0042269b</td>\n",
       "      <td>404</td>\n",
       "      <td>549.0</td>\n",
       "    </tr>\n",
       "    <tr>\n",
       "      <th>3</th>\n",
       "      <td>0059420b</td>\n",
       "      <td>206</td>\n",
       "      <td>244.0</td>\n",
       "    </tr>\n",
       "    <tr>\n",
       "      <th>4</th>\n",
       "      <td>0075873a</td>\n",
       "      <td>252</td>\n",
       "      <td>339.0</td>\n",
       "    </tr>\n",
       "    <tr>\n",
       "      <th>...</th>\n",
       "      <td>...</td>\n",
       "      <td>...</td>\n",
       "      <td>...</td>\n",
       "    </tr>\n",
       "    <tr>\n",
       "      <th>2466</th>\n",
       "      <td>ffb8c745</td>\n",
       "      <td>273</td>\n",
       "      <td>620.0</td>\n",
       "    </tr>\n",
       "    <tr>\n",
       "      <th>2467</th>\n",
       "      <td>ffbef7e5</td>\n",
       "      <td>438</td>\n",
       "      <td>450.0</td>\n",
       "    </tr>\n",
       "    <tr>\n",
       "      <th>2468</th>\n",
       "      <td>ffccd6fd</td>\n",
       "      <td>201</td>\n",
       "      <td>213.0</td>\n",
       "    </tr>\n",
       "    <tr>\n",
       "      <th>2469</th>\n",
       "      <td>ffec5b38</td>\n",
       "      <td>413</td>\n",
       "      <td>472.0</td>\n",
       "    </tr>\n",
       "    <tr>\n",
       "      <th>2470</th>\n",
       "      <td>fff05981</td>\n",
       "      <td>240</td>\n",
       "      <td>408.0</td>\n",
       "    </tr>\n",
       "  </tbody>\n",
       "</table>\n",
       "<p>2471 rows × 3 columns</p>\n",
       "</div>"
      ],
      "text/plain": [
       "            id  word_count  total_words\n",
       "0     001519c8         255        348.0\n",
       "1     0022f953         320        369.0\n",
       "2     0042269b         404        549.0\n",
       "3     0059420b         206        244.0\n",
       "4     0075873a         252        339.0\n",
       "...        ...         ...          ...\n",
       "2466  ffb8c745         273        620.0\n",
       "2467  ffbef7e5         438        450.0\n",
       "2468  ffccd6fd         201        213.0\n",
       "2469  ffec5b38         413        472.0\n",
       "2470  fff05981         240        408.0\n",
       "\n",
       "[2471 rows x 3 columns]"
      ]
     },
     "execution_count": 42,
     "metadata": {},
     "output_type": "execute_result"
    }
   ],
   "source": [
    "# Merging total words into word count df\n",
    "\n",
    "total_words_df = pd.DataFrame({'id':total_words.index,'total_words':total_words.values})\n",
    "word_count_df = pd.merge(word_count_df, total_words_df, on='id')\n",
    "word_count_df"
   ]
  },
  {
   "cell_type": "markdown",
   "metadata": {},
   "source": [
    "Finally, I calculate a ratio of the word_count relative to the total words produced. This should point towards how much revision happened during the writing process."
   ]
  },
  {
   "cell_type": "code",
   "execution_count": 43,
   "metadata": {},
   "outputs": [],
   "source": [
    "word_count_df['word_count_%_total'] = word_count_df['word_count'] / word_count_df['total_words']"
   ]
  },
  {
   "cell_type": "code",
   "execution_count": 44,
   "metadata": {},
   "outputs": [
    {
     "data": {
      "text/html": [
       "<div>\n",
       "<style scoped>\n",
       "    .dataframe tbody tr th:only-of-type {\n",
       "        vertical-align: middle;\n",
       "    }\n",
       "\n",
       "    .dataframe tbody tr th {\n",
       "        vertical-align: top;\n",
       "    }\n",
       "\n",
       "    .dataframe thead th {\n",
       "        text-align: right;\n",
       "    }\n",
       "</style>\n",
       "<table border=\"1\" class=\"dataframe\">\n",
       "  <thead>\n",
       "    <tr style=\"text-align: right;\">\n",
       "      <th></th>\n",
       "      <th>id</th>\n",
       "      <th>word_count</th>\n",
       "      <th>total_words</th>\n",
       "      <th>word_count_%_total</th>\n",
       "    </tr>\n",
       "  </thead>\n",
       "  <tbody>\n",
       "    <tr>\n",
       "      <th>1760</th>\n",
       "      <td>b8a857fc</td>\n",
       "      <td>409</td>\n",
       "      <td>1950.0</td>\n",
       "      <td>0.209744</td>\n",
       "    </tr>\n",
       "    <tr>\n",
       "      <th>784</th>\n",
       "      <td>52bec922</td>\n",
       "      <td>122</td>\n",
       "      <td>473.0</td>\n",
       "      <td>0.257928</td>\n",
       "    </tr>\n",
       "    <tr>\n",
       "      <th>1685</th>\n",
       "      <td>b1789fc6</td>\n",
       "      <td>212</td>\n",
       "      <td>811.0</td>\n",
       "      <td>0.261406</td>\n",
       "    </tr>\n",
       "    <tr>\n",
       "      <th>1264</th>\n",
       "      <td>84957285</td>\n",
       "      <td>266</td>\n",
       "      <td>960.0</td>\n",
       "      <td>0.277083</td>\n",
       "    </tr>\n",
       "    <tr>\n",
       "      <th>838</th>\n",
       "      <td>581eaf19</td>\n",
       "      <td>202</td>\n",
       "      <td>664.0</td>\n",
       "      <td>0.304217</td>\n",
       "    </tr>\n",
       "    <tr>\n",
       "      <th>...</th>\n",
       "      <td>...</td>\n",
       "      <td>...</td>\n",
       "      <td>...</td>\n",
       "      <td>...</td>\n",
       "    </tr>\n",
       "    <tr>\n",
       "      <th>1021</th>\n",
       "      <td>6b0cfb58</td>\n",
       "      <td>584</td>\n",
       "      <td>589.0</td>\n",
       "      <td>0.991511</td>\n",
       "    </tr>\n",
       "    <tr>\n",
       "      <th>925</th>\n",
       "      <td>62b9a12b</td>\n",
       "      <td>563</td>\n",
       "      <td>566.0</td>\n",
       "      <td>0.994700</td>\n",
       "    </tr>\n",
       "    <tr>\n",
       "      <th>2313</th>\n",
       "      <td>f08f6465</td>\n",
       "      <td>204</td>\n",
       "      <td>205.0</td>\n",
       "      <td>0.995122</td>\n",
       "    </tr>\n",
       "    <tr>\n",
       "      <th>1773</th>\n",
       "      <td>ba001912</td>\n",
       "      <td>259</td>\n",
       "      <td>260.0</td>\n",
       "      <td>0.996154</td>\n",
       "    </tr>\n",
       "    <tr>\n",
       "      <th>2230</th>\n",
       "      <td>e80f36a0</td>\n",
       "      <td>318</td>\n",
       "      <td>319.0</td>\n",
       "      <td>0.996865</td>\n",
       "    </tr>\n",
       "  </tbody>\n",
       "</table>\n",
       "<p>2471 rows × 4 columns</p>\n",
       "</div>"
      ],
      "text/plain": [
       "            id  word_count  total_words  word_count_%_total\n",
       "1760  b8a857fc         409       1950.0            0.209744\n",
       "784   52bec922         122        473.0            0.257928\n",
       "1685  b1789fc6         212        811.0            0.261406\n",
       "1264  84957285         266        960.0            0.277083\n",
       "838   581eaf19         202        664.0            0.304217\n",
       "...        ...         ...          ...                 ...\n",
       "1021  6b0cfb58         584        589.0            0.991511\n",
       "925   62b9a12b         563        566.0            0.994700\n",
       "2313  f08f6465         204        205.0            0.995122\n",
       "1773  ba001912         259        260.0            0.996154\n",
       "2230  e80f36a0         318        319.0            0.996865\n",
       "\n",
       "[2471 rows x 4 columns]"
      ]
     },
     "execution_count": 44,
     "metadata": {},
     "output_type": "execute_result"
    }
   ],
   "source": [
    "word_count_df.sort_values(by='word_count_%_total')"
   ]
  },
  {
   "cell_type": "markdown",
   "metadata": {},
   "source": [
    "The essay with the lowest ratio of final word count to total words cut about 80% of the overall words that the author produced during the writing time. On the other end of the data, a few authors cut only a single word for their final pieces."
   ]
  },
  {
   "cell_type": "code",
   "execution_count": 45,
   "metadata": {},
   "outputs": [
    {
     "data": {
      "text/html": [
       "<div>\n",
       "<style scoped>\n",
       "    .dataframe tbody tr th:only-of-type {\n",
       "        vertical-align: middle;\n",
       "    }\n",
       "\n",
       "    .dataframe tbody tr th {\n",
       "        vertical-align: top;\n",
       "    }\n",
       "\n",
       "    .dataframe thead th {\n",
       "        text-align: right;\n",
       "    }\n",
       "</style>\n",
       "<table border=\"1\" class=\"dataframe\">\n",
       "  <thead>\n",
       "    <tr style=\"text-align: right;\">\n",
       "      <th></th>\n",
       "      <th>id</th>\n",
       "      <th>score</th>\n",
       "      <th>sum_action_time</th>\n",
       "      <th>mean_action_time</th>\n",
       "      <th>std_action_time</th>\n",
       "      <th>min_action_time</th>\n",
       "      <th>max_action_time</th>\n",
       "      <th>action_time_%_total</th>\n",
       "      <th>word_count</th>\n",
       "      <th>total_words</th>\n",
       "      <th>word_count_%_total</th>\n",
       "    </tr>\n",
       "  </thead>\n",
       "  <tbody>\n",
       "    <tr>\n",
       "      <th>0</th>\n",
       "      <td>001519c8</td>\n",
       "      <td>3.5</td>\n",
       "      <td>297243</td>\n",
       "      <td>116.246774</td>\n",
       "      <td>91.797374</td>\n",
       "      <td>0</td>\n",
       "      <td>2259</td>\n",
       "      <td>0.165135</td>\n",
       "      <td>255</td>\n",
       "      <td>348.0</td>\n",
       "      <td>0.732759</td>\n",
       "    </tr>\n",
       "    <tr>\n",
       "      <th>1</th>\n",
       "      <td>0022f953</td>\n",
       "      <td>3.5</td>\n",
       "      <td>275391</td>\n",
       "      <td>112.221271</td>\n",
       "      <td>55.431189</td>\n",
       "      <td>0</td>\n",
       "      <td>1758</td>\n",
       "      <td>0.152995</td>\n",
       "      <td>320</td>\n",
       "      <td>369.0</td>\n",
       "      <td>0.867209</td>\n",
       "    </tr>\n",
       "    <tr>\n",
       "      <th>2</th>\n",
       "      <td>0042269b</td>\n",
       "      <td>6.0</td>\n",
       "      <td>421201</td>\n",
       "      <td>101.837766</td>\n",
       "      <td>82.383766</td>\n",
       "      <td>0</td>\n",
       "      <td>3005</td>\n",
       "      <td>0.234001</td>\n",
       "      <td>404</td>\n",
       "      <td>549.0</td>\n",
       "      <td>0.735883</td>\n",
       "    </tr>\n",
       "    <tr>\n",
       "      <th>3</th>\n",
       "      <td>0059420b</td>\n",
       "      <td>2.0</td>\n",
       "      <td>189596</td>\n",
       "      <td>121.848329</td>\n",
       "      <td>113.768226</td>\n",
       "      <td>0</td>\n",
       "      <td>806</td>\n",
       "      <td>0.105331</td>\n",
       "      <td>206</td>\n",
       "      <td>244.0</td>\n",
       "      <td>0.844262</td>\n",
       "    </tr>\n",
       "    <tr>\n",
       "      <th>4</th>\n",
       "      <td>0075873a</td>\n",
       "      <td>4.0</td>\n",
       "      <td>313702</td>\n",
       "      <td>123.943896</td>\n",
       "      <td>62.082013</td>\n",
       "      <td>0</td>\n",
       "      <td>701</td>\n",
       "      <td>0.174279</td>\n",
       "      <td>252</td>\n",
       "      <td>339.0</td>\n",
       "      <td>0.743363</td>\n",
       "    </tr>\n",
       "    <tr>\n",
       "      <th>...</th>\n",
       "      <td>...</td>\n",
       "      <td>...</td>\n",
       "      <td>...</td>\n",
       "      <td>...</td>\n",
       "      <td>...</td>\n",
       "      <td>...</td>\n",
       "      <td>...</td>\n",
       "      <td>...</td>\n",
       "      <td>...</td>\n",
       "      <td>...</td>\n",
       "      <td>...</td>\n",
       "    </tr>\n",
       "    <tr>\n",
       "      <th>2466</th>\n",
       "      <td>ffb8c745</td>\n",
       "      <td>3.5</td>\n",
       "      <td>499670</td>\n",
       "      <td>105.437856</td>\n",
       "      <td>63.622575</td>\n",
       "      <td>0</td>\n",
       "      <td>3323</td>\n",
       "      <td>0.277594</td>\n",
       "      <td>273</td>\n",
       "      <td>620.0</td>\n",
       "      <td>0.440323</td>\n",
       "    </tr>\n",
       "    <tr>\n",
       "      <th>2467</th>\n",
       "      <td>ffbef7e5</td>\n",
       "      <td>4.0</td>\n",
       "      <td>214221</td>\n",
       "      <td>82.266129</td>\n",
       "      <td>36.178818</td>\n",
       "      <td>0</td>\n",
       "      <td>1144</td>\n",
       "      <td>0.119012</td>\n",
       "      <td>438</td>\n",
       "      <td>450.0</td>\n",
       "      <td>0.973333</td>\n",
       "    </tr>\n",
       "    <tr>\n",
       "      <th>2468</th>\n",
       "      <td>ffccd6fd</td>\n",
       "      <td>1.5</td>\n",
       "      <td>231580</td>\n",
       "      <td>75.605615</td>\n",
       "      <td>63.494975</td>\n",
       "      <td>0</td>\n",
       "      <td>564</td>\n",
       "      <td>0.128656</td>\n",
       "      <td>201</td>\n",
       "      <td>213.0</td>\n",
       "      <td>0.943662</td>\n",
       "    </tr>\n",
       "    <tr>\n",
       "      <th>2469</th>\n",
       "      <td>ffec5b38</td>\n",
       "      <td>5.0</td>\n",
       "      <td>289439</td>\n",
       "      <td>89.277915</td>\n",
       "      <td>54.515788</td>\n",
       "      <td>0</td>\n",
       "      <td>1388</td>\n",
       "      <td>0.160799</td>\n",
       "      <td>413</td>\n",
       "      <td>472.0</td>\n",
       "      <td>0.875000</td>\n",
       "    </tr>\n",
       "    <tr>\n",
       "      <th>2470</th>\n",
       "      <td>fff05981</td>\n",
       "      <td>4.0</td>\n",
       "      <td>301235</td>\n",
       "      <td>83.237082</td>\n",
       "      <td>63.738723</td>\n",
       "      <td>0</td>\n",
       "      <td>1915</td>\n",
       "      <td>0.167353</td>\n",
       "      <td>240</td>\n",
       "      <td>408.0</td>\n",
       "      <td>0.588235</td>\n",
       "    </tr>\n",
       "  </tbody>\n",
       "</table>\n",
       "<p>2471 rows × 11 columns</p>\n",
       "</div>"
      ],
      "text/plain": [
       "            id  score  sum_action_time  mean_action_time  std_action_time  \\\n",
       "0     001519c8    3.5           297243        116.246774        91.797374   \n",
       "1     0022f953    3.5           275391        112.221271        55.431189   \n",
       "2     0042269b    6.0           421201        101.837766        82.383766   \n",
       "3     0059420b    2.0           189596        121.848329       113.768226   \n",
       "4     0075873a    4.0           313702        123.943896        62.082013   \n",
       "...        ...    ...              ...               ...              ...   \n",
       "2466  ffb8c745    3.5           499670        105.437856        63.622575   \n",
       "2467  ffbef7e5    4.0           214221         82.266129        36.178818   \n",
       "2468  ffccd6fd    1.5           231580         75.605615        63.494975   \n",
       "2469  ffec5b38    5.0           289439         89.277915        54.515788   \n",
       "2470  fff05981    4.0           301235         83.237082        63.738723   \n",
       "\n",
       "      min_action_time  max_action_time  action_time_%_total  word_count  \\\n",
       "0                   0             2259             0.165135         255   \n",
       "1                   0             1758             0.152995         320   \n",
       "2                   0             3005             0.234001         404   \n",
       "3                   0              806             0.105331         206   \n",
       "4                   0              701             0.174279         252   \n",
       "...               ...              ...                  ...         ...   \n",
       "2466                0             3323             0.277594         273   \n",
       "2467                0             1144             0.119012         438   \n",
       "2468                0              564             0.128656         201   \n",
       "2469                0             1388             0.160799         413   \n",
       "2470                0             1915             0.167353         240   \n",
       "\n",
       "      total_words  word_count_%_total  \n",
       "0           348.0            0.732759  \n",
       "1           369.0            0.867209  \n",
       "2           549.0            0.735883  \n",
       "3           244.0            0.844262  \n",
       "4           339.0            0.743363  \n",
       "...           ...                 ...  \n",
       "2466        620.0            0.440323  \n",
       "2467        450.0            0.973333  \n",
       "2468        213.0            0.943662  \n",
       "2469        472.0            0.875000  \n",
       "2470        408.0            0.588235  \n",
       "\n",
       "[2471 rows x 11 columns]"
      ]
     },
     "execution_count": 45,
     "metadata": {},
     "output_type": "execute_result"
    }
   ],
   "source": [
    "# Merging into the full dataframe\n",
    "\n",
    "full_df = pd.merge(full_df,word_count_df,on='id')\n",
    "full_df"
   ]
  },
  {
   "cell_type": "markdown",
   "metadata": {},
   "source": [
    "#### Preparing the Data  for Visualization"
   ]
  },
  {
   "cell_type": "code",
   "execution_count": 46,
   "metadata": {},
   "outputs": [],
   "source": [
    "# Defining relevant categories\n",
    "\n",
    "wc_viz_data = full_df[['score','word_count','total_words','word_count_%_total']]"
   ]
  },
  {
   "cell_type": "code",
   "execution_count": 47,
   "metadata": {},
   "outputs": [
    {
     "name": "stderr",
     "output_type": "stream",
     "text": [
      "<ipython-input-47-10de4cf11b06>:7: SettingWithCopyWarning: \n",
      "A value is trying to be set on a copy of a slice from a DataFrame.\n",
      "Try using .loc[row_indexer,col_indexer] = value instead\n",
      "\n",
      "See the caveats in the documentation: https://pandas.pydata.org/pandas-docs/stable/user_guide/indexing.html#returning-a-view-versus-a-copy\n",
      "  wc_viz_data['wc_bins'] = pd.cut(x=wc_viz_data['word_count'],bins=wc_bins,right=False)\n"
     ]
    }
   ],
   "source": [
    "# Creating bins for the visualization\n",
    "\n",
    "wc_max = wc_viz_data['word_count'].max()\n",
    "wc_bin_width = 150\n",
    "\n",
    "wc_bins = [i for i in range(0, wc_max + wc_bin_width, wc_bin_width)]\n",
    "wc_viz_data['wc_bins'] = pd.cut(x=wc_viz_data['word_count'],bins=wc_bins,right=False)"
   ]
  },
  {
   "cell_type": "code",
   "execution_count": 48,
   "metadata": {},
   "outputs": [
    {
     "data": {
      "text/plain": [
       "[150, 300)      943\n",
       "[300, 450)      802\n",
       "[450, 600)      441\n",
       "[600, 750)      176\n",
       "[750, 900)       68\n",
       "[900, 1050)      15\n",
       "[1050, 1200)     11\n",
       "[0, 150)         11\n",
       "[1200, 1350)      4\n",
       "Name: wc_bins, dtype: int64"
      ]
     },
     "execution_count": 48,
     "metadata": {},
     "output_type": "execute_result"
    }
   ],
   "source": [
    "# Reviewing bin sizes\n",
    "\n",
    "wc_viz_data['wc_bins'].value_counts()"
   ]
  },
  {
   "cell_type": "markdown",
   "metadata": {},
   "source": [
    "Due to the low volume of essays with counts below 150 words and counts above 900 words, I adjust the categories accordingly to make the bottom category 'fewer than 300 words' and the top category 'more than 750 words'."
   ]
  },
  {
   "cell_type": "code",
   "execution_count": 49,
   "metadata": {},
   "outputs": [
    {
     "name": "stderr",
     "output_type": "stream",
     "text": [
      "C:\\Users\\Hendricks\\anaconda3\\envs\\learn-env\\lib\\site-packages\\pandas\\core\\indexing.py:1596: SettingWithCopyWarning: \n",
      "A value is trying to be set on a copy of a slice from a DataFrame.\n",
      "Try using .loc[row_indexer,col_indexer] = value instead\n",
      "\n",
      "See the caveats in the documentation: https://pandas.pydata.org/pandas-docs/stable/user_guide/indexing.html#returning-a-view-versus-a-copy\n",
      "  self.obj[key] = _infer_fill_value(value)\n",
      "C:\\Users\\Hendricks\\anaconda3\\envs\\learn-env\\lib\\site-packages\\pandas\\core\\indexing.py:1765: SettingWithCopyWarning: \n",
      "A value is trying to be set on a copy of a slice from a DataFrame.\n",
      "Try using .loc[row_indexer,col_indexer] = value instead\n",
      "\n",
      "See the caveats in the documentation: https://pandas.pydata.org/pandas-docs/stable/user_guide/indexing.html#returning-a-view-versus-a-copy\n",
      "  isetter(loc, value)\n",
      "C:\\Users\\Hendricks\\anaconda3\\envs\\learn-env\\lib\\site-packages\\pandas\\core\\indexing.py:1765: SettingWithCopyWarning: \n",
      "A value is trying to be set on a copy of a slice from a DataFrame.\n",
      "Try using .loc[row_indexer,col_indexer] = value instead\n",
      "\n",
      "See the caveats in the documentation: https://pandas.pydata.org/pandas-docs/stable/user_guide/indexing.html#returning-a-view-versus-a-copy\n",
      "  isetter(loc, value)\n",
      "C:\\Users\\Hendricks\\anaconda3\\envs\\learn-env\\lib\\site-packages\\pandas\\core\\indexing.py:1765: SettingWithCopyWarning: \n",
      "A value is trying to be set on a copy of a slice from a DataFrame.\n",
      "Try using .loc[row_indexer,col_indexer] = value instead\n",
      "\n",
      "See the caveats in the documentation: https://pandas.pydata.org/pandas-docs/stable/user_guide/indexing.html#returning-a-view-versus-a-copy\n",
      "  isetter(loc, value)\n",
      "C:\\Users\\Hendricks\\anaconda3\\envs\\learn-env\\lib\\site-packages\\pandas\\core\\indexing.py:1765: SettingWithCopyWarning: \n",
      "A value is trying to be set on a copy of a slice from a DataFrame.\n",
      "Try using .loc[row_indexer,col_indexer] = value instead\n",
      "\n",
      "See the caveats in the documentation: https://pandas.pydata.org/pandas-docs/stable/user_guide/indexing.html#returning-a-view-versus-a-copy\n",
      "  isetter(loc, value)\n",
      "C:\\Users\\Hendricks\\anaconda3\\envs\\learn-env\\lib\\site-packages\\pandas\\core\\indexing.py:1765: SettingWithCopyWarning: \n",
      "A value is trying to be set on a copy of a slice from a DataFrame.\n",
      "Try using .loc[row_indexer,col_indexer] = value instead\n",
      "\n",
      "See the caveats in the documentation: https://pandas.pydata.org/pandas-docs/stable/user_guide/indexing.html#returning-a-view-versus-a-copy\n",
      "  isetter(loc, value)\n"
     ]
    }
   ],
   "source": [
    "wc_viz_data.loc[wc_viz_data['word_count']<300,'final_wc_bin'] = 0\n",
    "wc_viz_data.loc[(wc_viz_data['word_count']>=300)&(wc_viz_data['word_count']<450),'final_wc_bin'] = 1\n",
    "wc_viz_data.loc[(wc_viz_data['word_count']>=450)&(wc_viz_data['word_count']<600),'final_wc_bin'] = 2\n",
    "wc_viz_data.loc[(wc_viz_data['word_count']>=600)&(wc_viz_data['word_count']<750),'final_wc_bin'] = 3\n",
    "wc_viz_data.loc[wc_viz_data['word_count']>=750,'final_wc_bin'] = 4"
   ]
  },
  {
   "cell_type": "code",
   "execution_count": 50,
   "metadata": {},
   "outputs": [
    {
     "data": {
      "text/plain": [
       "0.0    954\n",
       "1.0    802\n",
       "2.0    441\n",
       "3.0    176\n",
       "4.0     98\n",
       "Name: final_wc_bin, dtype: int64"
      ]
     },
     "execution_count": 50,
     "metadata": {},
     "output_type": "execute_result"
    }
   ],
   "source": [
    "wc_viz_data['final_wc_bin'].value_counts()"
   ]
  },
  {
   "cell_type": "code",
   "execution_count": 51,
   "metadata": {},
   "outputs": [
    {
     "data": {
      "text/html": [
       "<div>\n",
       "<style scoped>\n",
       "    .dataframe tbody tr th:only-of-type {\n",
       "        vertical-align: middle;\n",
       "    }\n",
       "\n",
       "    .dataframe tbody tr th {\n",
       "        vertical-align: top;\n",
       "    }\n",
       "\n",
       "    .dataframe thead th {\n",
       "        text-align: right;\n",
       "    }\n",
       "</style>\n",
       "<table border=\"1\" class=\"dataframe\">\n",
       "  <thead>\n",
       "    <tr style=\"text-align: right;\">\n",
       "      <th></th>\n",
       "      <th>final_wc_bin</th>\n",
       "      <th>score</th>\n",
       "      <th>word_count</th>\n",
       "      <th>total_words</th>\n",
       "      <th>word_count_%_total</th>\n",
       "    </tr>\n",
       "  </thead>\n",
       "  <tbody>\n",
       "    <tr>\n",
       "      <th>0</th>\n",
       "      <td>0.0</td>\n",
       "      <td>2.932390</td>\n",
       "      <td>236.620545</td>\n",
       "      <td>295.267296</td>\n",
       "      <td>0.830789</td>\n",
       "    </tr>\n",
       "    <tr>\n",
       "      <th>1</th>\n",
       "      <td>1.0</td>\n",
       "      <td>3.895885</td>\n",
       "      <td>370.187032</td>\n",
       "      <td>465.690773</td>\n",
       "      <td>0.819546</td>\n",
       "    </tr>\n",
       "    <tr>\n",
       "      <th>2</th>\n",
       "      <td>2.0</td>\n",
       "      <td>4.412698</td>\n",
       "      <td>514.981859</td>\n",
       "      <td>627.167800</td>\n",
       "      <td>0.835527</td>\n",
       "    </tr>\n",
       "    <tr>\n",
       "      <th>3</th>\n",
       "      <td>3.0</td>\n",
       "      <td>4.701705</td>\n",
       "      <td>666.664773</td>\n",
       "      <td>784.534091</td>\n",
       "      <td>0.857095</td>\n",
       "    </tr>\n",
       "    <tr>\n",
       "      <th>4</th>\n",
       "      <td>4.0</td>\n",
       "      <td>4.846939</td>\n",
       "      <td>887.928571</td>\n",
       "      <td>1024.428571</td>\n",
       "      <td>0.871572</td>\n",
       "    </tr>\n",
       "  </tbody>\n",
       "</table>\n",
       "</div>"
      ],
      "text/plain": [
       "   final_wc_bin     score  word_count  total_words  word_count_%_total\n",
       "0           0.0  2.932390  236.620545   295.267296            0.830789\n",
       "1           1.0  3.895885  370.187032   465.690773            0.819546\n",
       "2           2.0  4.412698  514.981859   627.167800            0.835527\n",
       "3           3.0  4.701705  666.664773   784.534091            0.857095\n",
       "4           4.0  4.846939  887.928571  1024.428571            0.871572"
      ]
     },
     "execution_count": 51,
     "metadata": {},
     "output_type": "execute_result"
    }
   ],
   "source": [
    "# Aggregating the data for visualization\n",
    "\n",
    "wc_viz_df = wc_viz_data.groupby('final_wc_bin').mean()\n",
    "wc_viz_df.reset_index(inplace=True)\n",
    "wc_viz_df"
   ]
  },
  {
   "cell_type": "code",
   "execution_count": 52,
   "metadata": {},
   "outputs": [],
   "source": [
    "# Defining transparency levels\n",
    "\n",
    "wc_viz_df.loc[viz_df['score']>=4,'wc_alpha'] = 1\n",
    "wc_viz_df.loc[viz_df['score']<4,'wc_alpha'] = .5"
   ]
  },
  {
   "cell_type": "code",
   "execution_count": 53,
   "metadata": {},
   "outputs": [],
   "source": [
    "# Defining a custom color palette for the bars in the bar plot\n",
    "\n",
    "wc_custom_palette = ['#1768AC' if score >= 4 else '#A2A7A5' for score in wc_viz_df['score']]"
   ]
  },
  {
   "cell_type": "code",
   "execution_count": 54,
   "metadata": {},
   "outputs": [
    {
     "data": {
      "image/png": "[encoded data removed]",
      "text/plain": [
       "<Figure size 864x360 with 1 Axes>"
      ]
     },
     "metadata": {
      "needs_background": "light"
     },
     "output_type": "display_data"
    }
   ],
   "source": [
    "# Creating the visualization\n",
    "plt.figure(figsize = (12,5))\n",
    "ax = sns.barplot(x='score',y='final_wc_bin',data=wc_viz_df,orient='h',palette=wc_custom_palette)\n",
    "\n",
    "# Inverting y axis values\n",
    "plt.gca().invert_yaxis()\n",
    "\n",
    "# Applying different transparencies to different bars\n",
    "for bar, alpha in zip(ax.containers[0], wc_viz_df['wc_alpha']):\n",
    "    bar.set_alpha(alpha)\n",
    "    \n",
    "# Creating data labels\n",
    "for p, label in zip(ax.patches, wc_viz_df['score']):\n",
    "    width = p.get_width()-.2\n",
    "    ax.annotate(f'{label:.1f}', (width, p.get_y() + p.get_height() / 2),\n",
    "                ha='left', va='center', color='w', weight='bold')\n",
    "    \n",
    "# Formatting the title and subtitle\n",
    "title_text = \"Essays with \" + r\"$\\bf{\" 'more \\ words' \"}$\" + \" tended to earn \" + r\"$\\bf{\" 'higher \\ scores.' \"}$\"\n",
    "plt.title(title_text, loc='left', pad=25, fontsize= 17)    \n",
    "\n",
    "# Formatting axes\n",
    "plt.xlabel('Score', fontsize=14)\n",
    "plt.xticks(fontsize=12)\n",
    "plt.ylabel('Word Count', fontsize=14)\n",
    "plt.yticks(fontsize=12) \n",
    "ytick_positions = range(len(wc_viz_df))\n",
    "yticks_labels = ['Fewer than 300','300 to 450','451 to 600','601 to 750','More than 750']\n",
    "plt.yticks(ytick_positions, yticks_labels, fontsize=12)\n",
    "\n",
    "# Formatting final attributes\n",
    "sns.despine()\n",
    "plt.show();"
   ]
  },
  {
   "cell_type": "code",
   "execution_count": 55,
   "metadata": {},
   "outputs": [
    {
     "name": "stderr",
     "output_type": "stream",
     "text": [
      "<ipython-input-55-82fc9ab6c450>:4: SettingWithCopyWarning: \n",
      "A value is trying to be set on a copy of a slice from a DataFrame.\n",
      "Try using .loc[row_indexer,col_indexer] = value instead\n",
      "\n",
      "See the caveats in the documentation: https://pandas.pydata.org/pandas-docs/stable/user_guide/indexing.html#returning-a-view-versus-a-copy\n",
      "  wc_viz_data['viz_%_total'] = wc_viz_data['word_count_%_total'] * 100\n",
      "<ipython-input-55-82fc9ab6c450>:6: SettingWithCopyWarning: \n",
      "A value is trying to be set on a copy of a slice from a DataFrame.\n",
      "Try using .loc[row_indexer,col_indexer] = value instead\n",
      "\n",
      "See the caveats in the documentation: https://pandas.pydata.org/pandas-docs/stable/user_guide/indexing.html#returning-a-view-versus-a-copy\n",
      "  wc_viz_data['%totbins'] = pd.cut(wc_viz_data['viz_%_total'], bins=tot_bins, right=False)\n"
     ]
    }
   ],
   "source": [
    "# Creating bins for the visualization\n",
    "\n",
    "tot_bins = [i for i in range(0, 101, 10)]\n",
    "wc_viz_data['viz_%_total'] = wc_viz_data['word_count_%_total'] * 100\n",
    "\n",
    "wc_viz_data['%totbins'] = pd.cut(wc_viz_data['viz_%_total'], bins=tot_bins, right=False)"
   ]
  },
  {
   "cell_type": "code",
   "execution_count": 56,
   "metadata": {},
   "outputs": [
    {
     "data": {
      "text/plain": [
       "[80, 90)     951\n",
       "[90, 100)    785\n",
       "[70, 80)     442\n",
       "[60, 70)     171\n",
       "[50, 60)      72\n",
       "[40, 50)      35\n",
       "[30, 40)      11\n",
       "[20, 30)       4\n",
       "[10, 20)       0\n",
       "[0, 10)        0\n",
       "Name: %totbins, dtype: int64"
      ]
     },
     "execution_count": 56,
     "metadata": {},
     "output_type": "execute_result"
    }
   ],
   "source": [
    "# Reviewing bin sizes\n",
    "\n",
    "wc_viz_data['%totbins'].value_counts()"
   ]
  },
  {
   "cell_type": "markdown",
   "metadata": {},
   "source": [
    "Given the volume of essays in each range, I create a range for less than 60% to group all records in that range."
   ]
  },
  {
   "cell_type": "code",
   "execution_count": 57,
   "metadata": {},
   "outputs": [
    {
     "name": "stderr",
     "output_type": "stream",
     "text": [
      "C:\\Users\\Hendricks\\anaconda3\\envs\\learn-env\\lib\\site-packages\\pandas\\core\\indexing.py:1596: SettingWithCopyWarning: \n",
      "A value is trying to be set on a copy of a slice from a DataFrame.\n",
      "Try using .loc[row_indexer,col_indexer] = value instead\n",
      "\n",
      "See the caveats in the documentation: https://pandas.pydata.org/pandas-docs/stable/user_guide/indexing.html#returning-a-view-versus-a-copy\n",
      "  self.obj[key] = _infer_fill_value(value)\n",
      "C:\\Users\\Hendricks\\anaconda3\\envs\\learn-env\\lib\\site-packages\\pandas\\core\\indexing.py:1765: SettingWithCopyWarning: \n",
      "A value is trying to be set on a copy of a slice from a DataFrame.\n",
      "Try using .loc[row_indexer,col_indexer] = value instead\n",
      "\n",
      "See the caveats in the documentation: https://pandas.pydata.org/pandas-docs/stable/user_guide/indexing.html#returning-a-view-versus-a-copy\n",
      "  isetter(loc, value)\n",
      "C:\\Users\\Hendricks\\anaconda3\\envs\\learn-env\\lib\\site-packages\\pandas\\core\\indexing.py:1765: SettingWithCopyWarning: \n",
      "A value is trying to be set on a copy of a slice from a DataFrame.\n",
      "Try using .loc[row_indexer,col_indexer] = value instead\n",
      "\n",
      "See the caveats in the documentation: https://pandas.pydata.org/pandas-docs/stable/user_guide/indexing.html#returning-a-view-versus-a-copy\n",
      "  isetter(loc, value)\n",
      "C:\\Users\\Hendricks\\anaconda3\\envs\\learn-env\\lib\\site-packages\\pandas\\core\\indexing.py:1765: SettingWithCopyWarning: \n",
      "A value is trying to be set on a copy of a slice from a DataFrame.\n",
      "Try using .loc[row_indexer,col_indexer] = value instead\n",
      "\n",
      "See the caveats in the documentation: https://pandas.pydata.org/pandas-docs/stable/user_guide/indexing.html#returning-a-view-versus-a-copy\n",
      "  isetter(loc, value)\n",
      "C:\\Users\\Hendricks\\anaconda3\\envs\\learn-env\\lib\\site-packages\\pandas\\core\\indexing.py:1765: SettingWithCopyWarning: \n",
      "A value is trying to be set on a copy of a slice from a DataFrame.\n",
      "Try using .loc[row_indexer,col_indexer] = value instead\n",
      "\n",
      "See the caveats in the documentation: https://pandas.pydata.org/pandas-docs/stable/user_guide/indexing.html#returning-a-view-versus-a-copy\n",
      "  isetter(loc, value)\n",
      "C:\\Users\\Hendricks\\anaconda3\\envs\\learn-env\\lib\\site-packages\\pandas\\core\\indexing.py:1765: SettingWithCopyWarning: \n",
      "A value is trying to be set on a copy of a slice from a DataFrame.\n",
      "Try using .loc[row_indexer,col_indexer] = value instead\n",
      "\n",
      "See the caveats in the documentation: https://pandas.pydata.org/pandas-docs/stable/user_guide/indexing.html#returning-a-view-versus-a-copy\n",
      "  isetter(loc, value)\n"
     ]
    }
   ],
   "source": [
    "wc_viz_data.loc[wc_viz_data['viz_%_total']<60,'final_wctot_bin'] = 0\n",
    "wc_viz_data.loc[(wc_viz_data['viz_%_total']>=60)&(wc_viz_data['viz_%_total']<70),'final_wctot_bin'] = 1\n",
    "wc_viz_data.loc[(wc_viz_data['viz_%_total']>=70)&(wc_viz_data['viz_%_total']<80),'final_wctot_bin'] = 2\n",
    "wc_viz_data.loc[(wc_viz_data['viz_%_total']>=80)&(wc_viz_data['viz_%_total']<90),'final_wctot_bin'] = 3\n",
    "wc_viz_data.loc[wc_viz_data['viz_%_total']>=90,'final_wctot_bin'] = 4"
   ]
  },
  {
   "cell_type": "code",
   "execution_count": 58,
   "metadata": {},
   "outputs": [
    {
     "data": {
      "text/html": [
       "<div>\n",
       "<style scoped>\n",
       "    .dataframe tbody tr th:only-of-type {\n",
       "        vertical-align: middle;\n",
       "    }\n",
       "\n",
       "    .dataframe tbody tr th {\n",
       "        vertical-align: top;\n",
       "    }\n",
       "\n",
       "    .dataframe thead th {\n",
       "        text-align: right;\n",
       "    }\n",
       "</style>\n",
       "<table border=\"1\" class=\"dataframe\">\n",
       "  <thead>\n",
       "    <tr style=\"text-align: right;\">\n",
       "      <th></th>\n",
       "      <th>score</th>\n",
       "      <th>final_wctot_bin</th>\n",
       "    </tr>\n",
       "  </thead>\n",
       "  <tbody>\n",
       "    <tr>\n",
       "      <th>0</th>\n",
       "      <td>3.655738</td>\n",
       "      <td>0.0</td>\n",
       "    </tr>\n",
       "    <tr>\n",
       "      <th>1</th>\n",
       "      <td>3.836257</td>\n",
       "      <td>1.0</td>\n",
       "    </tr>\n",
       "    <tr>\n",
       "      <th>2</th>\n",
       "      <td>3.881222</td>\n",
       "      <td>2.0</td>\n",
       "    </tr>\n",
       "    <tr>\n",
       "      <th>3</th>\n",
       "      <td>3.803891</td>\n",
       "      <td>3.0</td>\n",
       "    </tr>\n",
       "    <tr>\n",
       "      <th>4</th>\n",
       "      <td>3.484713</td>\n",
       "      <td>4.0</td>\n",
       "    </tr>\n",
       "  </tbody>\n",
       "</table>\n",
       "</div>"
      ],
      "text/plain": [
       "      score  final_wctot_bin\n",
       "0  3.655738              0.0\n",
       "1  3.836257              1.0\n",
       "2  3.881222              2.0\n",
       "3  3.803891              3.0\n",
       "4  3.484713              4.0"
      ]
     },
     "execution_count": 58,
     "metadata": {},
     "output_type": "execute_result"
    }
   ],
   "source": [
    "# Aggregating data for visualization\n",
    "\n",
    "wctot_viz_df = wc_viz_data.groupby('final_wctot_bin').mean()\n",
    "wctot_viz_df.reset_index(inplace=True)\n",
    "wctot_viz_df = wctot_viz_df[['score','final_wctot_bin']]\n",
    "wctot_viz_df"
   ]
  },
  {
   "cell_type": "markdown",
   "metadata": {},
   "source": [
    "There is not a significant correlation between the % of total words that the author includes in the piece and the score that they receive on the essay."
   ]
  },
  {
   "cell_type": "markdown",
   "metadata": {},
   "source": [
    "### 2c. Event Count"
   ]
  },
  {
   "cell_type": "markdown",
   "metadata": {},
   "source": [
    "I review the final event count for each essay."
   ]
  },
  {
   "cell_type": "markdown",
   "metadata": {},
   "source": [
    "#### Aggregating the Data"
   ]
  },
  {
   "cell_type": "code",
   "execution_count": 59,
   "metadata": {},
   "outputs": [],
   "source": [
    "event_count = train_df.groupby('id')['event_id'].last()\n",
    "event_count_df = pd.DataFrame({'id':event_count.index,'event_count':event_count.values})"
   ]
  },
  {
   "cell_type": "code",
   "execution_count": 60,
   "metadata": {},
   "outputs": [
    {
     "data": {
      "text/html": [
       "<div>\n",
       "<style scoped>\n",
       "    .dataframe tbody tr th:only-of-type {\n",
       "        vertical-align: middle;\n",
       "    }\n",
       "\n",
       "    .dataframe tbody tr th {\n",
       "        vertical-align: top;\n",
       "    }\n",
       "\n",
       "    .dataframe thead th {\n",
       "        text-align: right;\n",
       "    }\n",
       "</style>\n",
       "<table border=\"1\" class=\"dataframe\">\n",
       "  <thead>\n",
       "    <tr style=\"text-align: right;\">\n",
       "      <th></th>\n",
       "      <th>id</th>\n",
       "      <th>score</th>\n",
       "      <th>sum_action_time</th>\n",
       "      <th>mean_action_time</th>\n",
       "      <th>std_action_time</th>\n",
       "      <th>min_action_time</th>\n",
       "      <th>max_action_time</th>\n",
       "      <th>action_time_%_total</th>\n",
       "      <th>word_count</th>\n",
       "      <th>total_words</th>\n",
       "      <th>word_count_%_total</th>\n",
       "      <th>event_count</th>\n",
       "    </tr>\n",
       "  </thead>\n",
       "  <tbody>\n",
       "    <tr>\n",
       "      <th>0</th>\n",
       "      <td>001519c8</td>\n",
       "      <td>3.5</td>\n",
       "      <td>297243</td>\n",
       "      <td>116.246774</td>\n",
       "      <td>91.797374</td>\n",
       "      <td>0</td>\n",
       "      <td>2259</td>\n",
       "      <td>0.165135</td>\n",
       "      <td>255</td>\n",
       "      <td>348.0</td>\n",
       "      <td>0.732759</td>\n",
       "      <td>2557</td>\n",
       "    </tr>\n",
       "    <tr>\n",
       "      <th>1</th>\n",
       "      <td>0022f953</td>\n",
       "      <td>3.5</td>\n",
       "      <td>275391</td>\n",
       "      <td>112.221271</td>\n",
       "      <td>55.431189</td>\n",
       "      <td>0</td>\n",
       "      <td>1758</td>\n",
       "      <td>0.152995</td>\n",
       "      <td>320</td>\n",
       "      <td>369.0</td>\n",
       "      <td>0.867209</td>\n",
       "      <td>2454</td>\n",
       "    </tr>\n",
       "    <tr>\n",
       "      <th>2</th>\n",
       "      <td>0042269b</td>\n",
       "      <td>6.0</td>\n",
       "      <td>421201</td>\n",
       "      <td>101.837766</td>\n",
       "      <td>82.383766</td>\n",
       "      <td>0</td>\n",
       "      <td>3005</td>\n",
       "      <td>0.234001</td>\n",
       "      <td>404</td>\n",
       "      <td>549.0</td>\n",
       "      <td>0.735883</td>\n",
       "      <td>4136</td>\n",
       "    </tr>\n",
       "    <tr>\n",
       "      <th>3</th>\n",
       "      <td>0059420b</td>\n",
       "      <td>2.0</td>\n",
       "      <td>189596</td>\n",
       "      <td>121.848329</td>\n",
       "      <td>113.768226</td>\n",
       "      <td>0</td>\n",
       "      <td>806</td>\n",
       "      <td>0.105331</td>\n",
       "      <td>206</td>\n",
       "      <td>244.0</td>\n",
       "      <td>0.844262</td>\n",
       "      <td>1556</td>\n",
       "    </tr>\n",
       "    <tr>\n",
       "      <th>4</th>\n",
       "      <td>0075873a</td>\n",
       "      <td>4.0</td>\n",
       "      <td>313702</td>\n",
       "      <td>123.943896</td>\n",
       "      <td>62.082013</td>\n",
       "      <td>0</td>\n",
       "      <td>701</td>\n",
       "      <td>0.174279</td>\n",
       "      <td>252</td>\n",
       "      <td>339.0</td>\n",
       "      <td>0.743363</td>\n",
       "      <td>2531</td>\n",
       "    </tr>\n",
       "    <tr>\n",
       "      <th>...</th>\n",
       "      <td>...</td>\n",
       "      <td>...</td>\n",
       "      <td>...</td>\n",
       "      <td>...</td>\n",
       "      <td>...</td>\n",
       "      <td>...</td>\n",
       "      <td>...</td>\n",
       "      <td>...</td>\n",
       "      <td>...</td>\n",
       "      <td>...</td>\n",
       "      <td>...</td>\n",
       "      <td>...</td>\n",
       "    </tr>\n",
       "    <tr>\n",
       "      <th>2466</th>\n",
       "      <td>ffb8c745</td>\n",
       "      <td>3.5</td>\n",
       "      <td>499670</td>\n",
       "      <td>105.437856</td>\n",
       "      <td>63.622575</td>\n",
       "      <td>0</td>\n",
       "      <td>3323</td>\n",
       "      <td>0.277594</td>\n",
       "      <td>273</td>\n",
       "      <td>620.0</td>\n",
       "      <td>0.440323</td>\n",
       "      <td>4739</td>\n",
       "    </tr>\n",
       "    <tr>\n",
       "      <th>2467</th>\n",
       "      <td>ffbef7e5</td>\n",
       "      <td>4.0</td>\n",
       "      <td>214221</td>\n",
       "      <td>82.266129</td>\n",
       "      <td>36.178818</td>\n",
       "      <td>0</td>\n",
       "      <td>1144</td>\n",
       "      <td>0.119012</td>\n",
       "      <td>438</td>\n",
       "      <td>450.0</td>\n",
       "      <td>0.973333</td>\n",
       "      <td>2604</td>\n",
       "    </tr>\n",
       "    <tr>\n",
       "      <th>2468</th>\n",
       "      <td>ffccd6fd</td>\n",
       "      <td>1.5</td>\n",
       "      <td>231580</td>\n",
       "      <td>75.605615</td>\n",
       "      <td>63.494975</td>\n",
       "      <td>0</td>\n",
       "      <td>564</td>\n",
       "      <td>0.128656</td>\n",
       "      <td>201</td>\n",
       "      <td>213.0</td>\n",
       "      <td>0.943662</td>\n",
       "      <td>3063</td>\n",
       "    </tr>\n",
       "    <tr>\n",
       "      <th>2469</th>\n",
       "      <td>ffec5b38</td>\n",
       "      <td>5.0</td>\n",
       "      <td>289439</td>\n",
       "      <td>89.277915</td>\n",
       "      <td>54.515788</td>\n",
       "      <td>0</td>\n",
       "      <td>1388</td>\n",
       "      <td>0.160799</td>\n",
       "      <td>413</td>\n",
       "      <td>472.0</td>\n",
       "      <td>0.875000</td>\n",
       "      <td>3242</td>\n",
       "    </tr>\n",
       "    <tr>\n",
       "      <th>2470</th>\n",
       "      <td>fff05981</td>\n",
       "      <td>4.0</td>\n",
       "      <td>301235</td>\n",
       "      <td>83.237082</td>\n",
       "      <td>63.738723</td>\n",
       "      <td>0</td>\n",
       "      <td>1915</td>\n",
       "      <td>0.167353</td>\n",
       "      <td>240</td>\n",
       "      <td>408.0</td>\n",
       "      <td>0.588235</td>\n",
       "      <td>3619</td>\n",
       "    </tr>\n",
       "  </tbody>\n",
       "</table>\n",
       "<p>2471 rows × 12 columns</p>\n",
       "</div>"
      ],
      "text/plain": [
       "            id  score  sum_action_time  mean_action_time  std_action_time  \\\n",
       "0     001519c8    3.5           297243        116.246774        91.797374   \n",
       "1     0022f953    3.5           275391        112.221271        55.431189   \n",
       "2     0042269b    6.0           421201        101.837766        82.383766   \n",
       "3     0059420b    2.0           189596        121.848329       113.768226   \n",
       "4     0075873a    4.0           313702        123.943896        62.082013   \n",
       "...        ...    ...              ...               ...              ...   \n",
       "2466  ffb8c745    3.5           499670        105.437856        63.622575   \n",
       "2467  ffbef7e5    4.0           214221         82.266129        36.178818   \n",
       "2468  ffccd6fd    1.5           231580         75.605615        63.494975   \n",
       "2469  ffec5b38    5.0           289439         89.277915        54.515788   \n",
       "2470  fff05981    4.0           301235         83.237082        63.738723   \n",
       "\n",
       "      min_action_time  max_action_time  action_time_%_total  word_count  \\\n",
       "0                   0             2259             0.165135         255   \n",
       "1                   0             1758             0.152995         320   \n",
       "2                   0             3005             0.234001         404   \n",
       "3                   0              806             0.105331         206   \n",
       "4                   0              701             0.174279         252   \n",
       "...               ...              ...                  ...         ...   \n",
       "2466                0             3323             0.277594         273   \n",
       "2467                0             1144             0.119012         438   \n",
       "2468                0              564             0.128656         201   \n",
       "2469                0             1388             0.160799         413   \n",
       "2470                0             1915             0.167353         240   \n",
       "\n",
       "      total_words  word_count_%_total  event_count  \n",
       "0           348.0            0.732759         2557  \n",
       "1           369.0            0.867209         2454  \n",
       "2           549.0            0.735883         4136  \n",
       "3           244.0            0.844262         1556  \n",
       "4           339.0            0.743363         2531  \n",
       "...           ...                 ...          ...  \n",
       "2466        620.0            0.440323         4739  \n",
       "2467        450.0            0.973333         2604  \n",
       "2468        213.0            0.943662         3063  \n",
       "2469        472.0            0.875000         3242  \n",
       "2470        408.0            0.588235         3619  \n",
       "\n",
       "[2471 rows x 12 columns]"
      ]
     },
     "execution_count": 60,
     "metadata": {},
     "output_type": "execute_result"
    }
   ],
   "source": [
    "full_df = pd.merge(full_df,event_count_df,on='id')\n",
    "full_df"
   ]
  },
  {
   "cell_type": "markdown",
   "metadata": {},
   "source": [
    "#### Preparing the Data for Visualization"
   ]
  },
  {
   "cell_type": "code",
   "execution_count": 61,
   "metadata": {},
   "outputs": [],
   "source": [
    "# Defining relevant features\n",
    "\n",
    "event_viz = full_df[['score','event_count']]"
   ]
  },
  {
   "cell_type": "code",
   "execution_count": 62,
   "metadata": {},
   "outputs": [
    {
     "name": "stderr",
     "output_type": "stream",
     "text": [
      "<ipython-input-62-a9a0df119c85>:7: SettingWithCopyWarning: \n",
      "A value is trying to be set on a copy of a slice from a DataFrame.\n",
      "Try using .loc[row_indexer,col_indexer] = value instead\n",
      "\n",
      "See the caveats in the documentation: https://pandas.pydata.org/pandas-docs/stable/user_guide/indexing.html#returning-a-view-versus-a-copy\n",
      "  event_viz['bin'] = pd.cut(event_viz['event_count'],bins=event_bins,right=False)\n"
     ]
    }
   ],
   "source": [
    "# Creating bins\n",
    "\n",
    "event_max = event_viz['event_count'].max()\n",
    "event_bin_width = 1000\n",
    "\n",
    "event_bins = [i for i in range(0, event_max + event_bin_width, event_bin_width)]\n",
    "event_viz['bin'] = pd.cut(event_viz['event_count'],bins=event_bins,right=False)"
   ]
  },
  {
   "cell_type": "code",
   "execution_count": 63,
   "metadata": {},
   "outputs": [
    {
     "data": {
      "text/plain": [
       "[2000, 3000)      707\n",
       "[3000, 4000)      552\n",
       "[1000, 2000)      466\n",
       "[4000, 5000)      363\n",
       "[5000, 6000)      208\n",
       "[6000, 7000)       89\n",
       "[7000, 8000)       54\n",
       "[9000, 10000)       9\n",
       "[8000, 9000)        9\n",
       "[0, 1000)           7\n",
       "[10000, 11000)      4\n",
       "[11000, 12000)      2\n",
       "[12000, 13000)      1\n",
       "Name: bin, dtype: int64"
      ]
     },
     "execution_count": 63,
     "metadata": {},
     "output_type": "execute_result"
    }
   ],
   "source": [
    "# Reviewing bin sizes\n",
    "\n",
    "event_viz['bin'].value_counts()"
   ]
  },
  {
   "cell_type": "code",
   "execution_count": 64,
   "metadata": {},
   "outputs": [
    {
     "name": "stderr",
     "output_type": "stream",
     "text": [
      "C:\\Users\\Hendricks\\anaconda3\\envs\\learn-env\\lib\\site-packages\\pandas\\core\\indexing.py:1596: SettingWithCopyWarning: \n",
      "A value is trying to be set on a copy of a slice from a DataFrame.\n",
      "Try using .loc[row_indexer,col_indexer] = value instead\n",
      "\n",
      "See the caveats in the documentation: https://pandas.pydata.org/pandas-docs/stable/user_guide/indexing.html#returning-a-view-versus-a-copy\n",
      "  self.obj[key] = _infer_fill_value(value)\n",
      "C:\\Users\\Hendricks\\anaconda3\\envs\\learn-env\\lib\\site-packages\\pandas\\core\\indexing.py:1765: SettingWithCopyWarning: \n",
      "A value is trying to be set on a copy of a slice from a DataFrame.\n",
      "Try using .loc[row_indexer,col_indexer] = value instead\n",
      "\n",
      "See the caveats in the documentation: https://pandas.pydata.org/pandas-docs/stable/user_guide/indexing.html#returning-a-view-versus-a-copy\n",
      "  isetter(loc, value)\n",
      "C:\\Users\\Hendricks\\anaconda3\\envs\\learn-env\\lib\\site-packages\\pandas\\core\\indexing.py:1765: SettingWithCopyWarning: \n",
      "A value is trying to be set on a copy of a slice from a DataFrame.\n",
      "Try using .loc[row_indexer,col_indexer] = value instead\n",
      "\n",
      "See the caveats in the documentation: https://pandas.pydata.org/pandas-docs/stable/user_guide/indexing.html#returning-a-view-versus-a-copy\n",
      "  isetter(loc, value)\n",
      "C:\\Users\\Hendricks\\anaconda3\\envs\\learn-env\\lib\\site-packages\\pandas\\core\\indexing.py:1765: SettingWithCopyWarning: \n",
      "A value is trying to be set on a copy of a slice from a DataFrame.\n",
      "Try using .loc[row_indexer,col_indexer] = value instead\n",
      "\n",
      "See the caveats in the documentation: https://pandas.pydata.org/pandas-docs/stable/user_guide/indexing.html#returning-a-view-versus-a-copy\n",
      "  isetter(loc, value)\n",
      "C:\\Users\\Hendricks\\anaconda3\\envs\\learn-env\\lib\\site-packages\\pandas\\core\\indexing.py:1765: SettingWithCopyWarning: \n",
      "A value is trying to be set on a copy of a slice from a DataFrame.\n",
      "Try using .loc[row_indexer,col_indexer] = value instead\n",
      "\n",
      "See the caveats in the documentation: https://pandas.pydata.org/pandas-docs/stable/user_guide/indexing.html#returning-a-view-versus-a-copy\n",
      "  isetter(loc, value)\n",
      "C:\\Users\\Hendricks\\anaconda3\\envs\\learn-env\\lib\\site-packages\\pandas\\core\\indexing.py:1765: SettingWithCopyWarning: \n",
      "A value is trying to be set on a copy of a slice from a DataFrame.\n",
      "Try using .loc[row_indexer,col_indexer] = value instead\n",
      "\n",
      "See the caveats in the documentation: https://pandas.pydata.org/pandas-docs/stable/user_guide/indexing.html#returning-a-view-versus-a-copy\n",
      "  isetter(loc, value)\n",
      "C:\\Users\\Hendricks\\anaconda3\\envs\\learn-env\\lib\\site-packages\\pandas\\core\\indexing.py:1765: SettingWithCopyWarning: \n",
      "A value is trying to be set on a copy of a slice from a DataFrame.\n",
      "Try using .loc[row_indexer,col_indexer] = value instead\n",
      "\n",
      "See the caveats in the documentation: https://pandas.pydata.org/pandas-docs/stable/user_guide/indexing.html#returning-a-view-versus-a-copy\n",
      "  isetter(loc, value)\n",
      "C:\\Users\\Hendricks\\anaconda3\\envs\\learn-env\\lib\\site-packages\\pandas\\core\\indexing.py:1765: SettingWithCopyWarning: \n",
      "A value is trying to be set on a copy of a slice from a DataFrame.\n",
      "Try using .loc[row_indexer,col_indexer] = value instead\n",
      "\n",
      "See the caveats in the documentation: https://pandas.pydata.org/pandas-docs/stable/user_guide/indexing.html#returning-a-view-versus-a-copy\n",
      "  isetter(loc, value)\n"
     ]
    }
   ],
   "source": [
    "# Creating final bins for visualization\n",
    "\n",
    "event_viz.loc[event_viz['event_count']<2000,'final_bin'] = 0\n",
    "event_viz.loc[(event_viz['event_count']>=2000)&(event_viz['event_count']<3000),'final_bin'] = 1\n",
    "event_viz.loc[(event_viz['event_count']>=3000)&(event_viz['event_count']<4000),'final_bin'] = 2\n",
    "event_viz.loc[(event_viz['event_count']>=4000)&(event_viz['event_count']<5000),'final_bin'] = 3\n",
    "event_viz.loc[(event_viz['event_count']>=5000)&(event_viz['event_count']<6000),'final_bin'] = 4\n",
    "event_viz.loc[(event_viz['event_count']>=6000)&(event_viz['event_count']<7000),'final_bin'] = 5\n",
    "event_viz.loc[event_viz['event_count']>=7000,'final_bin'] = 6"
   ]
  },
  {
   "cell_type": "code",
   "execution_count": 65,
   "metadata": {},
   "outputs": [],
   "source": [
    "# Creating final dataframe for visualization\n",
    "\n",
    "event_viz_df = event_viz.groupby('final_bin').mean()\n",
    "event_viz_df.reset_index(inplace=True)"
   ]
  },
  {
   "cell_type": "code",
   "execution_count": 66,
   "metadata": {},
   "outputs": [],
   "source": [
    "# Defining transparency levels\n",
    "\n",
    "event_viz_df.loc[event_viz_df['score']<=3,'alpha'] = 1\n",
    "event_viz_df.loc[event_viz_df['score']>3,'alpha'] = .3"
   ]
  },
  {
   "cell_type": "code",
   "execution_count": 67,
   "metadata": {},
   "outputs": [],
   "source": [
    "# Defining a custom color palette for the bars in the bar plot\n",
    "\n",
    "event_custom_palette = ['#F9A620' if score < 3.9 else '#A2A7A5' for score in event_viz_df['score']]"
   ]
  },
  {
   "cell_type": "code",
   "execution_count": null,
   "metadata": {},
   "outputs": [],
   "source": [
    "# Creating visualization\n",
    "plt.figure(figsize = (12,5))\n",
    "ax = sns.barplot(x='score',y='final_bin',data=event_viz_df,orient='h',palette=event_custom_palette)\n",
    "\n",
    "# Inverting y axis values\n",
    "plt.gca().invert_yaxis()\n",
    "\n",
    "# Applying different transparencies to different bars\n",
    "for bar, alpha in zip(ax.containers[0], event_viz_df['alpha']):\n",
    "    bar.set_alpha(alpha)\n",
    "    \n",
    "# Creating data labels\n",
    "for p, label in zip(ax.patches, event_viz_df['score']):\n",
    "    width = p.get_width()-.2\n",
    "    ax.annotate(f'{label:.1f}', (width, p.get_y() + p.get_height() / 2),\n",
    "                ha='left', va='center', color='w', weight='bold')\n",
    "    \n",
    "# Formatting the title and subtitle\n",
    "r\"$\\bf{\" 'highest \\ median \\ word \\ counts' \"}$\"\n",
    "title_text = \"Writers with \" + r\"$\\bf{\" 'fewer \\ than \\ 2000 \\ events' \"}$\" + \" tended to earn \" + r\"$\\bf{\" 'the \\ lowest \\ scores.' \"}$\"\n",
    "plt.title(title_text, loc='left', pad=25, fontsize= 17)    \n",
    "\n",
    "# Formatting axes\n",
    "plt.xlabel('Score', fontsize=14)\n",
    "plt.xticks(fontsize=12)\n",
    "plt.ylabel('Event Count', fontsize=14)\n",
    "plt.yticks(fontsize=12)\n",
    "ytick_positions = range(len(event_viz_df))\n",
    "yticks_labels = ['Fewer than 2,000','2,000 to 3,000','3,000 to 4,000','4,000 to 5,000','5,000 to 6,000','6,000 to 7,000','More than 7,000']\n",
    "plt.yticks(ytick_positions, yticks_labels, fontsize=12)\n",
    "\n",
    "# Formatting final attributes\n",
    "sns.despine()\n",
    "plt.show();"
   ]
  },
  {
   "cell_type": "markdown",
   "metadata": {},
   "source": [
    "### 2d. Activity"
   ]
  },
  {
   "cell_type": "markdown",
   "metadata": {},
   "source": [
    "For activity, there is some data cleaning to do around the move activities. I calculate how many events are dedicated to each activity as well as a ratio of the number of events per activity relative to the total event count."
   ]
  },
  {
   "cell_type": "code",
   "execution_count": null,
   "metadata": {},
   "outputs": [],
   "source": [
    "train_df['activity'].value_counts()"
   ]
  },
  {
   "cell_type": "code",
   "execution_count": null,
   "metadata": {},
   "outputs": [],
   "source": [
    "# Cleaning the different kinds of Move events\n",
    "\n",
    "train_df.loc[train_df['activity'].str.contains('From',case=False), 'activity'] = 'Move'"
   ]
  },
  {
   "cell_type": "code",
   "execution_count": null,
   "metadata": {},
   "outputs": [],
   "source": [
    "train_df['activity'].value_counts()"
   ]
  },
  {
   "cell_type": "code",
   "execution_count": null,
   "metadata": {},
   "outputs": [],
   "source": [
    "# Aggregating activity data\n",
    "\n",
    "activity_df = train_df.groupby(by='id')['activity'].value_counts().unstack(fill_value=0)\n",
    "activity_df.reset_index(inplace=True)"
   ]
  },
  {
   "cell_type": "code",
   "execution_count": null,
   "metadata": {},
   "outputs": [],
   "source": [
    "# Merging with the full dataframe\n",
    "\n",
    "full_df = pd.merge(full_df,activity_df,on='id')\n",
    "full_df"
   ]
  },
  {
   "cell_type": "code",
   "execution_count": null,
   "metadata": {},
   "outputs": [],
   "source": [
    "# Calculating action time for each activity type\n",
    "\n",
    "pivot = train_df.pivot_table(values='action_time', index='id', columns='activity', aggfunc=['sum']).fillna(0)\n",
    "pivot.columns = pivot.columns.droplevel(level=0)\n",
    "new_columns = [col + '_time' for col in pivot.columns]\n",
    "pivot.columns = new_columns\n",
    "pivot['id'] = pivot.index\n",
    "pivot.reset_index(drop=True,inplace=True)\n",
    "pivot"
   ]
  },
  {
   "cell_type": "code",
   "execution_count": null,
   "metadata": {},
   "outputs": [],
   "source": [
    "# Merging with full dataframe\n",
    "\n",
    "full_df=pd.merge(full_df,pivot,on='id')\n",
    "full_df"
   ]
  },
  {
   "cell_type": "code",
   "execution_count": null,
   "metadata": {},
   "outputs": [],
   "source": [
    "# Calculating ratios\n",
    "\n",
    "full_df['Move_Ratio'] = full_df['Move'] / full_df['event_count']\n",
    "full_df['Paste_Ratio'] = full_df['Paste'] / full_df['event_count']\n",
    "full_df['Replace_Ratio'] = full_df['Replace'] / full_df['event_count']\n",
    "full_df['Nonproduction_Ratio'] = full_df['Nonproduction'] / full_df['event_count']\n",
    "full_df['Remove_Ratio'] = full_df['Remove/Cut'] / full_df['event_count']\n",
    "full_df['Input_Ratio'] = full_df['Input'] / full_df['event_count']\n",
    "full_df['revision_events'] = full_df['Move'] + full_df['Paste'] + full_df['Replace'] + full_df['Remove/Cut']\n",
    "full_df['Revision_Ratio'] =  full_df['revision_events'] / full_df['event_count']\n",
    "\n",
    "full_df['Move_Time_Ratio'] = full_df['Move_time'] / full_df['sum_action_time']\n",
    "full_df['Paste_Time_Ratio'] = full_df['Paste_time'] / full_df['sum_action_time']\n",
    "full_df['Replace_Time_Ratio'] = full_df['Replace_time'] / full_df['sum_action_time']\n",
    "full_df['Nonproduction_Time_Ratio'] = full_df['Nonproduction_time'] / full_df['sum_action_time']\n",
    "full_df['Remove_Time_Ratio'] = full_df['Remove/Cut_time'] / full_df['sum_action_time']\n",
    "full_df['Input_Time_Ratio'] = full_df['Input_time'] / full_df['sum_action_time']\n",
    "full_df['revision_time'] = full_df['Move_time'] + full_df['Paste_time'] + full_df['Replace_time'] + full_df['Remove/Cut_time']\n",
    "full_df['Revision_Time_Ratio'] =  full_df['revision_time'] / full_df['sum_action_time']"
   ]
  },
  {
   "cell_type": "code",
   "execution_count": null,
   "metadata": {},
   "outputs": [],
   "source": [
    "# Defining relevant features\n",
    "\n",
    "act_viz_data = full_df[['score','Revision_Time_Ratio']]"
   ]
  },
  {
   "cell_type": "code",
   "execution_count": null,
   "metadata": {},
   "outputs": [],
   "source": [
    "# Creating bins for visualization\n",
    "\n",
    "act_viz_data['rev%'] = act_viz_data['Revision_Time_Ratio'] * 100\n",
    "pause_bin_width = 5\n",
    "\n",
    "pause_bins = [i for i in range(0, 101, pause_bin_width)]\n",
    "act_viz_data['bins'] = pd.cut(act_viz_data['rev%'],bins=pause_bins,right=False)"
   ]
  },
  {
   "cell_type": "code",
   "execution_count": null,
   "metadata": {},
   "outputs": [],
   "source": [
    "# Reviewing bin sizes\n",
    "\n",
    "act_viz_data['bins'].value_counts()"
   ]
  },
  {
   "cell_type": "code",
   "execution_count": null,
   "metadata": {},
   "outputs": [],
   "source": [
    "# Creating final bins for visualizations\n",
    "\n",
    "act_viz_data.loc[act_viz_data['rev%']<5,'final_bin'] = 0\n",
    "act_viz_data.loc[(act_viz_data['rev%']>=5)&(act_viz_data['rev%']<10),'final_bin'] = 1\n",
    "act_viz_data.loc[(act_viz_data['rev%']>=10)&(act_viz_data['rev%']<15),'final_bin'] = 2\n",
    "act_viz_data.loc[(act_viz_data['rev%']>=15)&(act_viz_data['rev%']<20),'final_bin'] = 3\n",
    "act_viz_data.loc[act_viz_data['rev%']>=20,'final_bin'] = 4"
   ]
  },
  {
   "cell_type": "code",
   "execution_count": null,
   "metadata": {},
   "outputs": [],
   "source": [
    "# Creating final visualization dataframe\n",
    "\n",
    "act_viz_df = act_viz_data.groupby('final_bin').mean()\n",
    "act_viz_df.reset_index(inplace=True)"
   ]
  },
  {
   "cell_type": "code",
   "execution_count": null,
   "metadata": {},
   "outputs": [],
   "source": [
    "# Creating visualization\n",
    "plt.figure(figsize = (12,5))\n",
    "ax = sns.barplot(x='score',y='final_bin',data=act_viz_df,orient='h',color='#1768AC')\n",
    "\n",
    "# Inverting y axis values\n",
    "plt.gca().invert_yaxis()\n",
    "    \n",
    "# Creating data labels\n",
    "for p, label in zip(ax.patches, act_viz_df['score']):\n",
    "    width = p.get_width()-.2\n",
    "    ax.annotate(f'{label:.1f}', (width, p.get_y() + p.get_height() / 2),\n",
    "                ha='left', va='center', color='w', weight='bold')\n",
    "    \n",
    "# Formatting the title and subtitle\n",
    "r\"$\\bf{\" 'highest \\ median \\ word \\ counts' \"}$\"\n",
    "title_text = \"The percentage of action time writers devoted to revision did not tend to correlate with score.\"\n",
    "plt.title(title_text, loc='left', pad=25, fontsize= 17)    \n",
    "\n",
    "# Formatting final attributes\n",
    "plt.xlabel('Score', fontsize=14)\n",
    "plt.xticks(fontsize=12)\n",
    "plt.ylabel('Characters Per Pause', fontsize=14)\n",
    "plt.yticks(fontsize=12)\n",
    "\n",
    "# Set y-tick positions and labels\n",
    "ytick_positions = range(len(act_viz_df))\n",
    "yticks_labels = ['0%-5%','6%-10%','11%-15%','16%-20%','21% or more']\n",
    "plt.yticks(ytick_positions, yticks_labels, fontsize=12)\n",
    "\n",
    "sns.despine()\n",
    "plt.show();"
   ]
  },
  {
   "cell_type": "markdown",
   "metadata": {},
   "source": [
    "### 2e. Time of First Input"
   ]
  },
  {
   "cell_type": "markdown",
   "metadata": {},
   "source": [
    "For this field, I identify the time of the first and last inputs to see how much time each writer takes before getting started as well as how much time each author leaves on the clock at the end."
   ]
  },
  {
   "cell_type": "code",
   "execution_count": null,
   "metadata": {},
   "outputs": [],
   "source": [
    "# Finding first input records for each essay\n",
    "\n",
    "first_input = train_df[train_df['activity'] == 'Input'].groupby('id').first()"
   ]
  },
  {
   "cell_type": "code",
   "execution_count": null,
   "metadata": {},
   "outputs": [],
   "source": [
    "# Creating first input dataframe\n",
    "\n",
    "first_input_df = pd.DataFrame({'id':first_input.index,'first_input':first_input['down_time']})\n",
    "first_input_df.reset_index(drop=True,inplace=True)\n",
    "first_input_df"
   ]
  },
  {
   "cell_type": "code",
   "execution_count": null,
   "metadata": {},
   "outputs": [],
   "source": [
    "# Finding last input records for each essay\n",
    "\n",
    "last_input = train_df[train_df['activity'] == 'Input'].groupby('id').last()"
   ]
  },
  {
   "cell_type": "code",
   "execution_count": null,
   "metadata": {},
   "outputs": [],
   "source": [
    "# Creating last input dataframe\n",
    "\n",
    "last_input_df = pd.DataFrame({'id':last_input.index,'last_input':last_input['up_time']})\n",
    "last_input_df.reset_index(drop=True,inplace=True)"
   ]
  },
  {
   "cell_type": "code",
   "execution_count": null,
   "metadata": {},
   "outputs": [],
   "source": [
    "# Merging first and last input dfs\n",
    "\n",
    "first_last_input_df = pd.merge(first_input_df,last_input_df,on='id')"
   ]
  },
  {
   "cell_type": "code",
   "execution_count": null,
   "metadata": {},
   "outputs": [],
   "source": [
    "# Merging with full df\n",
    "\n",
    "full_df = pd.merge(full_df,first_last_input_df, on='id')\n",
    "full_df"
   ]
  },
  {
   "cell_type": "code",
   "execution_count": null,
   "metadata": {},
   "outputs": [],
   "source": [
    "# Defining features for visualization\n",
    "\n",
    "start_end_data = full_df[['score','first_input','last_input']]"
   ]
  },
  {
   "cell_type": "code",
   "execution_count": null,
   "metadata": {},
   "outputs": [],
   "source": [
    "# Formatting categories for visualization\n",
    "\n",
    "start_end_data['first_input'] = round((start_end_data['first_input'] / 1000))\n",
    "start_end_data['last_input'] = round((start_end_data['last_input'] / 1000))"
   ]
  },
  {
   "cell_type": "code",
   "execution_count": null,
   "metadata": {},
   "outputs": [],
   "source": [
    "# Creating bins for visualization\n",
    "\n",
    "fi_max = int(round(start_end_data['first_input'].max()))\n",
    "fi_bin_width = 20\n",
    "\n",
    "fi_bins = [i for i in range(0, fi_max + fi_bin_width, fi_bin_width)]\n",
    "start_end_data['bin'] = pd.cut(start_end_data['first_input'],bins=fi_bins,right=False)"
   ]
  },
  {
   "cell_type": "code",
   "execution_count": null,
   "metadata": {},
   "outputs": [],
   "source": [
    "# Reviewing bin sizes\n",
    "\n",
    "start_end_data['bin'].value_counts().head(10)"
   ]
  },
  {
   "cell_type": "code",
   "execution_count": null,
   "metadata": {},
   "outputs": [],
   "source": [
    "# Creating final visualization bins\n",
    "\n",
    "start_end_data.loc[start_end_data['first_input']<20,'final_bin'] = 0\n",
    "start_end_data.loc[(start_end_data['first_input']>=20)&(start_end_data['first_input']<40),'final_bin'] = 1\n",
    "start_end_data.loc[(start_end_data['first_input']>=40)&(start_end_data['first_input']<80),'final_bin'] = 2\n",
    "start_end_data.loc[(start_end_data['first_input']>=60)&(start_end_data['first_input']<80),'final_bin'] = 3\n",
    "start_end_data.loc[(start_end_data['first_input']>=80)&(start_end_data['first_input']<100),'final_bin'] = 4\n",
    "start_end_data.loc[(start_end_data['first_input']>=100)&(start_end_data['first_input']<120),'final_bin'] = 5\n",
    "start_end_data.loc[start_end_data['first_input']>=120,'final_bin'] = 6"
   ]
  },
  {
   "cell_type": "code",
   "execution_count": null,
   "metadata": {},
   "outputs": [],
   "source": [
    "# Creating final dataframe\n",
    "\n",
    "start_end_df = start_end_data.groupby('final_bin').mean()\n",
    "start_end_df.reset_index(inplace=True)\n",
    "start_end_df"
   ]
  },
  {
   "cell_type": "markdown",
   "metadata": {},
   "source": [
    "Writers tended to finish around the same time. Start time did not have a substantial correlation with the mean score."
   ]
  },
  {
   "cell_type": "markdown",
   "metadata": {},
   "source": [
    "### 2f. Input Types"
   ]
  },
  {
   "cell_type": "markdown",
   "metadata": {},
   "source": [
    "Input creates a challenge because there are over 100 types of inputs, many of which occur very rarely. I focus on the input types that occur at least 100 times."
   ]
  },
  {
   "cell_type": "code",
   "execution_count": null,
   "metadata": {},
   "outputs": [],
   "source": [
    "# Checking for the different input types\n",
    "\n",
    "train_df['down_event'].unique()"
   ]
  },
  {
   "cell_type": "code",
   "execution_count": null,
   "metadata": {},
   "outputs": [],
   "source": [
    "# Checking how often each type occurs\n",
    "\n",
    "train_df['down_event'].value_counts().head(25)"
   ]
  },
  {
   "cell_type": "code",
   "execution_count": null,
   "metadata": {},
   "outputs": [],
   "source": [
    "# Creating a variable to store the value counts\n",
    "\n",
    "down_event_val_cnts = train_df['down_event'].value_counts()"
   ]
  },
  {
   "cell_type": "code",
   "execution_count": null,
   "metadata": {},
   "outputs": [],
   "source": [
    "# Filtering the counts to focus on events that occur at least 5 times\n",
    "\n",
    "filtered_counts = down_event_val_cnts[down_event_val_cnts > 5]"
   ]
  },
  {
   "cell_type": "code",
   "execution_count": null,
   "metadata": {},
   "outputs": [],
   "source": [
    "len(filtered_counts)"
   ]
  },
  {
   "cell_type": "code",
   "execution_count": null,
   "metadata": {},
   "outputs": [],
   "source": [
    "# Converting the counts to a list of column names\n",
    "\n",
    "target_columns = filtered_counts.index.to_list()\n",
    "target_columns"
   ]
  },
  {
   "cell_type": "code",
   "execution_count": null,
   "metadata": {},
   "outputs": [],
   "source": [
    "# Aggregating data\n",
    "\n",
    "down_event_df = train_df.groupby(by='id')['down_event'].value_counts().unstack(fill_value=0)"
   ]
  },
  {
   "cell_type": "code",
   "execution_count": null,
   "metadata": {},
   "outputs": [],
   "source": [
    "# Filtering the dataframe for the selected columns\n",
    "\n",
    "down_event_df = down_event_df[target_columns]"
   ]
  },
  {
   "cell_type": "code",
   "execution_count": null,
   "metadata": {},
   "outputs": [],
   "source": [
    "# Cleaning the dataframe for the merge\n",
    "\n",
    "down_event_df['id'] = down_event_df.index\n",
    "down_event_df.reset_index(drop=True,inplace=True)"
   ]
  },
  {
   "cell_type": "code",
   "execution_count": null,
   "metadata": {},
   "outputs": [],
   "source": [
    "# Merging with final dataframe\n",
    "\n",
    "full_df = pd.merge(full_df,down_event_df,on='id')\n",
    "full_df"
   ]
  },
  {
   "cell_type": "markdown",
   "metadata": {},
   "source": [
    "### 2g. Pauses"
   ]
  },
  {
   "cell_type": "markdown",
   "metadata": {},
   "source": [
    "I count pauses as events between down events lasting 5 seconds or more. I create features for the number of pauses and the total time spent on pauses."
   ]
  },
  {
   "cell_type": "markdown",
   "metadata": {},
   "source": [
    "#### Aggregating Data"
   ]
  },
  {
   "cell_type": "code",
   "execution_count": null,
   "metadata": {},
   "outputs": [],
   "source": [
    "# Creating a function to include a feature for the previous downtime\n",
    "\n",
    "def add_previous_down_time(group):\n",
    "    group['previous_down_time'] = group['down_time'].shift(1).fillna(group['down_time'])\n",
    "    return group[['id','down_time','previous_down_time']]"
   ]
  },
  {
   "cell_type": "code",
   "execution_count": null,
   "metadata": {},
   "outputs": [],
   "source": [
    "# Applying the function to each essay\n",
    "\n",
    "pause_df = train_df.groupby('id').apply(add_previous_down_time)"
   ]
  },
  {
   "cell_type": "code",
   "execution_count": null,
   "metadata": {},
   "outputs": [],
   "source": [
    "# Creating a feature for each pause\n",
    "\n",
    "pause_df['down_time_difference'] = pause_df['down_time'] - pause_df['previous_down_time']\n",
    "pause_df['pauses'] = 0\n",
    "pause_df.loc[pause_df['down_time_difference']>=5000,'pauses'] = 1"
   ]
  },
  {
   "cell_type": "code",
   "execution_count": null,
   "metadata": {},
   "outputs": [],
   "source": [
    "# Creating a feature for pause time\n",
    "\n",
    "pause_df['pause_time'] = 0\n",
    "pause_df.loc[pause_df['down_time_difference']>=5000,'pause_time'] = pause_df['down_time_difference']"
   ]
  },
  {
   "cell_type": "code",
   "execution_count": null,
   "metadata": {},
   "outputs": [],
   "source": [
    "# Creating a dataframe for pause features\n",
    "\n",
    "pause_df = pause_df.reset_index(drop=True)\n",
    "pause_df = pause_df[['id','pauses','pause_time']]\n",
    "pause_df = pause_df.groupby('id').sum()\n",
    "pause_df"
   ]
  },
  {
   "cell_type": "code",
   "execution_count": null,
   "metadata": {},
   "outputs": [],
   "source": [
    "# Aggregating pause data\n",
    "\n",
    "pause = pause_df.groupby(by='id')\n",
    "pause_features = pause.agg({\n",
    "        'pauses': ['sum'], \n",
    "        'pause_time': ['sum', 'mean', 'min', 'max'],                                           \n",
    "    })"
   ]
  },
  {
   "cell_type": "code",
   "execution_count": null,
   "metadata": {},
   "outputs": [],
   "source": [
    "# Formatting column names\n",
    "\n",
    "pause_features.columns = ['_'.join(col).strip() for col in pause_features.columns.values]"
   ]
  },
  {
   "cell_type": "code",
   "execution_count": null,
   "metadata": {},
   "outputs": [],
   "source": [
    "pause_features.reset_index(inplace=True)\n",
    "pause_features"
   ]
  },
  {
   "cell_type": "code",
   "execution_count": null,
   "metadata": {},
   "outputs": [],
   "source": [
    "# Merging with full dataframe\n",
    "\n",
    "full_df = pd.merge(full_df,pause_features,on='id')"
   ]
  },
  {
   "cell_type": "code",
   "execution_count": null,
   "metadata": {},
   "outputs": [],
   "source": [
    "# Creating features for ratios\n",
    "\n",
    "full_df['characters_per_pause'] = full_df['q'] / full_df['pauses_sum']\n",
    "full_df.loc[full_df['pauses_sum']==0,'characters_per_pause'] = full_df['q']\n",
    "full_df['action_time_per_pause'] = full_df['sum_action_time'] / full_df['pauses_sum']\n",
    "full_df.loc[full_df['pauses_sum']==0,'action_time_per_pause'] = full_df['sum_action_time']\n",
    "full_df['action_time_per_pause_time'] = full_df['sum_action_time'] / full_df['pause_time_sum']\n",
    "full_df.loc[full_df['pause_time_sum']==0,'action_time_per_pause_time'] = full_df['sum_action_time']"
   ]
  },
  {
   "cell_type": "markdown",
   "metadata": {},
   "source": [
    "#### Preparing Data for Visualization"
   ]
  },
  {
   "cell_type": "code",
   "execution_count": null,
   "metadata": {},
   "outputs": [],
   "source": [
    "# Selecting features for visualization\n",
    "\n",
    "pause_cols = list(pause_features.columns)\n",
    "pause_cols.remove('id')\n",
    "pause_data = full_df[pause_cols]\n",
    "pause_data[['score','characters_per_pause','action_time_per_pause','action_time_per_pause_time']] = full_df[['score','characters_per_pause','action_time_per_pause','action_time_per_pause_time']]\n",
    "pause_data"
   ]
  },
  {
   "cell_type": "code",
   "execution_count": null,
   "metadata": {},
   "outputs": [],
   "source": [
    "# Creating bins for visualization\n",
    "\n",
    "pause_max = int(round(pause_data['characters_per_pause'].max()))\n",
    "pause_bin_width = 25\n",
    "\n",
    "pause_bins = [i for i in range(0, pause_max + pause_bin_width, pause_bin_width)]\n",
    "pause_data['cpp_bins'] = pd.cut(pause_data['characters_per_pause'],bins=pause_bins,right=False)"
   ]
  },
  {
   "cell_type": "code",
   "execution_count": null,
   "metadata": {},
   "outputs": [],
   "source": [
    "# Reviewing bin sizes\n",
    "\n",
    "pause_data['cpp_bins'].value_counts()"
   ]
  },
  {
   "cell_type": "code",
   "execution_count": null,
   "metadata": {},
   "outputs": [],
   "source": [
    "# Creating final bins\n",
    "\n",
    "pause_data.loc[pause_data['characters_per_pause']<25,'final_bin'] = 0\n",
    "pause_data.loc[(pause_data['characters_per_pause']>=25)&(pause_data['characters_per_pause']<50),'final_bin'] = 1\n",
    "pause_data.loc[(pause_data['characters_per_pause']>=50)&(pause_data['characters_per_pause']<75),'final_bin'] = 2\n",
    "pause_data.loc[(pause_data['characters_per_pause']>=75)&(pause_data['characters_per_pause']<100),'final_bin'] = 3\n",
    "pause_data.loc[(pause_data['characters_per_pause']>=100)&(pause_data['characters_per_pause']<125),'final_bin'] = 4\n",
    "pause_data.loc[(pause_data['characters_per_pause']>=125)&(pause_data['characters_per_pause']<150),'final_bin'] = 5\n",
    "pause_data.loc[pause_data['characters_per_pause']>=150,'final_bin'] = 6"
   ]
  },
  {
   "cell_type": "code",
   "execution_count": null,
   "metadata": {},
   "outputs": [],
   "source": [
    "# Creating final dataframe\n",
    "\n",
    "pause_df = pause_data.groupby('final_bin').mean()\n",
    "pause_df.reset_index(inplace=True)"
   ]
  },
  {
   "cell_type": "code",
   "execution_count": null,
   "metadata": {},
   "outputs": [],
   "source": [
    "# Setting transparency levels\n",
    "\n",
    "pause_df.loc[pause_df['score']<=3,'alpha'] = 1\n",
    "pause_df.loc[pause_df['score']>3,'alpha'] = .3"
   ]
  },
  {
   "cell_type": "code",
   "execution_count": null,
   "metadata": {},
   "outputs": [],
   "source": [
    "# Defining a custom color palette for the bars in the bar plot\n",
    "\n",
    "pause_custom_palette = ['#F9A620' if score < 3.9 else '#A2A7A5' for score in pause_df['score']]"
   ]
  },
  {
   "cell_type": "code",
   "execution_count": null,
   "metadata": {},
   "outputs": [],
   "source": [
    "# Creating visualization\n",
    "plt.figure(figsize = (12,5))\n",
    "ax = sns.barplot(x='score',y='final_bin',data=pause_df,orient='h',palette=pause_custom_palette)\n",
    "\n",
    "# Inverting y axis values\n",
    "plt.gca().invert_yaxis()\n",
    "\n",
    "# Applying different transparencies to different bars\n",
    "for bar, alpha in zip(ax.containers[0], pause_df['alpha']):\n",
    "    bar.set_alpha(alpha)\n",
    "    \n",
    "# Creating data labels\n",
    "for p, label in zip(ax.patches, pause_df['score']):\n",
    "    width = p.get_width()-.2\n",
    "    ax.annotate(f'{label:.1f}', (width, p.get_y() + p.get_height() / 2),\n",
    "                ha='left', va='center', color='w', weight='bold')\n",
    "    \n",
    "# Formatting the title and subtitle\n",
    "r\"$\\bf{\" 'highest \\ median \\ word \\ counts' \"}$\"\n",
    "title_text = \"Essays with \" + r\"$\\bf{\" 'fewer \\ than \\ 25 \\ characters \\ per \\ pause' \"}$\" + \" tended to earn \" + r\"$\\bf{\" 'the \\ lowest \\ scores.' \"}$\"\n",
    "plt.title(title_text, loc='left', pad=25, fontsize= 17)    \n",
    "\n",
    "# Formatting axes\n",
    "plt.xlabel('Score', fontsize=14)\n",
    "plt.xticks(fontsize=12)\n",
    "plt.ylabel('Characters Per Pause', fontsize=14)\n",
    "plt.yticks(fontsize=12)\n",
    "ytick_positions = range(len(pause_df))\n",
    "yticks_labels = ['Fewer than 25','25 to 50','51 to 75','76 to 100','101 to 125','126 to 150','More than 150']\n",
    "plt.yticks(ytick_positions, yticks_labels, fontsize=12)\n",
    "\n",
    "# Formatting final attributes\n",
    "sns.despine()\n",
    "plt.show();"
   ]
  },
  {
   "cell_type": "code",
   "execution_count": null,
   "metadata": {},
   "outputs": [],
   "source": [
    "# Creating bins\n",
    "\n",
    "pause_data['at%p'] = pause_data['action_time_per_pause_time'] * 100\n",
    "action_pause_bin_width = 10\n",
    "\n",
    "action_pause_bins = [i for i in range(0, 101, action_pause_bin_width)]\n",
    "pause_data['at%p_bins'] = pd.cut(pause_data['at%p'],bins=action_pause_bins,right=False)"
   ]
  },
  {
   "cell_type": "code",
   "execution_count": null,
   "metadata": {},
   "outputs": [],
   "source": [
    "# Reviewing bin sizes\n",
    "\n",
    "pause_data['at%p_bins'].value_counts()"
   ]
  },
  {
   "cell_type": "code",
   "execution_count": null,
   "metadata": {},
   "outputs": [],
   "source": [
    "# Creating final bins\n",
    "\n",
    "pause_data.loc[pause_data['at%p']<10,'at%p_bin'] = 0\n",
    "pause_data.loc[(pause_data['at%p']>=10)&(pause_data['at%p']<20),'at%p_bin'] = 1\n",
    "pause_data.loc[(pause_data['at%p']>=20)&(pause_data['at%p']<30),'at%p_bin'] = 2\n",
    "pause_data.loc[(pause_data['at%p']>=30)&(pause_data['at%p']<40),'at%p_bin'] = 3\n",
    "pause_data.loc[(pause_data['at%p']>=40)&(pause_data['at%p']<50),'at%p_bin'] = 4\n",
    "pause_data.loc[(pause_data['at%p']>=50)&(pause_data['at%p']<60),'at%p_bin'] = 5\n",
    "pause_data.loc[(pause_data['at%p']>=60)&(pause_data['at%p']<70),'at%p_bin'] = 6\n",
    "pause_data.loc[(pause_data['at%p']>=70)&(pause_data['at%p']<80),'at%p_bin'] = 7\n",
    "pause_data.loc[(pause_data['at%p']>=80)&(pause_data['at%p']<90),'at%p_bin'] = 8\n",
    "pause_data.loc[pause_data['at%p']>=90,'at%p_bin'] = 9"
   ]
  },
  {
   "cell_type": "code",
   "execution_count": null,
   "metadata": {},
   "outputs": [],
   "source": [
    "pause_data['at%p_bin'].value_counts()"
   ]
  },
  {
   "cell_type": "code",
   "execution_count": null,
   "metadata": {},
   "outputs": [],
   "source": [
    "# Creating dataframe for visualization\n",
    "\n",
    "pause_df1 = pause_data.groupby('at%p_bin').mean()\n",
    "pause_df1.reset_index(inplace=True)\n",
    "pause_df1"
   ]
  },
  {
   "cell_type": "code",
   "execution_count": null,
   "metadata": {},
   "outputs": [],
   "source": [
    "# Setting transparency levels\n",
    "\n",
    "pause_df1.loc[pause_df1['score']>=4.3,'alpha'] = 1\n",
    "pause_df1.loc[pause_df1['score']<4.3,'alpha'] = .5"
   ]
  },
  {
   "cell_type": "code",
   "execution_count": null,
   "metadata": {},
   "outputs": [],
   "source": [
    "# Defining a custom color palette for the bars in the bar plot\n",
    "\n",
    "pause_custom_palette1 = ['#1768AC' if score > 4 else '#A2A7A5' for score in pause_df1['score']]"
   ]
  },
  {
   "cell_type": "code",
   "execution_count": null,
   "metadata": {},
   "outputs": [],
   "source": [
    "# Creating visualization\n",
    "plt.figure(figsize = (12,5))\n",
    "ax = sns.barplot(x='score',y='final_bin',data=pause_df1,orient='h',palette=pause_custom_palette1)\n",
    "\n",
    "# Inverting y axis values\n",
    "plt.gca().invert_yaxis()\n",
    "\n",
    "# Applying different transparencies to different bars\n",
    "for bar, alpha in zip(ax.containers[0], pause_df1['alpha']):\n",
    "    bar.set_alpha(alpha)\n",
    "    \n",
    "# Creating data labels\n",
    "for p, label in zip(ax.patches, pause_df1['score']):\n",
    "    width = p.get_width()-.2\n",
    "    ax.annotate(f'{label:.1f}', (width, p.get_y() + p.get_height() / 2),\n",
    "                ha='left', va='center', color='w', weight='bold')\n",
    "    \n",
    "# Formatting the title and subtitle\n",
    "r\"$\\bf{\" 'highest \\ median \\ word \\ counts' \"}$\"\n",
    "title_text = \"Writers who had at least as much action time as pause time tended to earn higher scores.\"\n",
    "plt.title(title_text, loc='left', pad=25, fontsize= 17)    \n",
    "\n",
    "# Formatting axes\n",
    "plt.xlabel('Score', fontsize=14)\n",
    "plt.xticks(fontsize=12)\n",
    "plt.ylabel('Characters Per Pause', fontsize=14)\n",
    "plt.yticks(fontsize=12)\n",
    "ytick_positions = range(len(pause_df1))\n",
    "yticks_labels = ['0%-10%','11%-20%','21%-30%','31%-40%','41%-50%','51%-60%','61%-70%','71%-80%','81%-90%','91%-100%']\n",
    "plt.yticks(ytick_positions, yticks_labels, fontsize=12)\n",
    "\n",
    "# Formatting final attributes\n",
    "sns.despine()\n",
    "plt.show();"
   ]
  },
  {
   "cell_type": "markdown",
   "metadata": {},
   "source": [
    "### 2i. Sentence Length"
   ]
  },
  {
   "cell_type": "markdown",
   "metadata": {},
   "source": [
    "Now that I have all of the information from the logs that I want to use in my model in the full dataframe, I construct some additional features for the model to use. First, I approximate sentence length by dividing the final word count by the number of periods in the essay. Sentence length can indicate sophisticated sentence structure. It can also indicate run-on sentences."
   ]
  },
  {
   "cell_type": "markdown",
   "metadata": {},
   "source": [
    "#### Creating New Features"
   ]
  },
  {
   "cell_type": "code",
   "execution_count": null,
   "metadata": {},
   "outputs": [],
   "source": [
    "# Creating sentence length feature\n",
    "\n",
    "full_df['end_punctuation'] = full_df['.'] + full_df['!'] + full_df['?']\n",
    "full_df['sentence_length'] = full_df['total_words'] / full_df['end_punctuation']\n",
    "full_df.loc[(full_df['end_punctuation']==0),'sentence_length'] = full_df['total_words']"
   ]
  },
  {
   "cell_type": "code",
   "execution_count": null,
   "metadata": {},
   "outputs": [],
   "source": [
    "# Creating events per word feature\n",
    "\n",
    "full_df['events_per_word'] = full_df['event_count'] / full_df['word_count']\n",
    "full_df.loc[full_df['word_count']==0,'events_per_word'] = full_df['event_count']"
   ]
  },
  {
   "cell_type": "code",
   "execution_count": null,
   "metadata": {},
   "outputs": [],
   "source": [
    "# Creating characters per word feature\n",
    "\n",
    "full_df['characters_per_word'] = full_df['q'] / full_df['total_words']\n",
    "full_df.loc[full_df['total_words']==0,'characters_per_word'] = full_df['q']"
   ]
  },
  {
   "cell_type": "markdown",
   "metadata": {},
   "source": [
    "#### Preparing Data for Visualization"
   ]
  },
  {
   "cell_type": "code",
   "execution_count": null,
   "metadata": {},
   "outputs": [],
   "source": [
    "# Defining features for visualization\n",
    "\n",
    "length_data = full_df[['score','sentence_length','characters_per_word']]"
   ]
  },
  {
   "cell_type": "code",
   "execution_count": null,
   "metadata": {},
   "outputs": [],
   "source": [
    "# Creating bins\n",
    "\n",
    "max_len = sen_bin_width = int(round((length_data['sentence_length'].max())))\n",
    "sen_bin_width = 5\n",
    "\n",
    "sen_bins = [i for i in range(0, max_len + sen_bin_width, sen_bin_width)]\n",
    "length_data['sen_bins'] = pd.cut(length_data['sentence_length'],bins=sen_bins,right=False)"
   ]
  },
  {
   "cell_type": "code",
   "execution_count": null,
   "metadata": {},
   "outputs": [],
   "source": [
    "# Reviewing bin sizes\n",
    "\n",
    "length_data['sen_bins'].value_counts().head(10)"
   ]
  },
  {
   "cell_type": "code",
   "execution_count": null,
   "metadata": {},
   "outputs": [],
   "source": [
    "# Creating final bins\n",
    "\n",
    "length_data.loc[length_data['sentence_length']<10,'sen_final'] = 0\n",
    "length_data.loc[(length_data['sentence_length']>=10)&(length_data['sentence_length']<15),'sen_final'] = 1\n",
    "length_data.loc[(length_data['sentence_length']>=15)&(length_data['sentence_length']<20),'sen_final'] = 2\n",
    "length_data.loc[(length_data['sentence_length']>=20)&(length_data['sentence_length']<25),'sen_final'] = 3\n",
    "length_data.loc[(length_data['sentence_length']>=25)&(length_data['sentence_length']<30),'sen_final'] = 4\n",
    "length_data.loc[(length_data['sentence_length']>=30)&(length_data['sentence_length']<35),'sen_final'] = 5\n",
    "length_data.loc[length_data['sentence_length']>=35,'sen_final'] = 6"
   ]
  },
  {
   "cell_type": "code",
   "execution_count": null,
   "metadata": {},
   "outputs": [],
   "source": [
    "length_data['sen_final'].value_counts()"
   ]
  },
  {
   "cell_type": "code",
   "execution_count": null,
   "metadata": {},
   "outputs": [],
   "source": [
    "# Creating visualization dataframe\n",
    "\n",
    "sen_df = length_data.groupby('sen_final').mean()\n",
    "sen_df.reset_index(inplace=True)"
   ]
  },
  {
   "cell_type": "code",
   "execution_count": null,
   "metadata": {},
   "outputs": [],
   "source": [
    "# Setting transparency levels\n",
    "\n",
    "sen_df.loc[sen_df['score']>=3.9,'alpha'] = 1\n",
    "sen_df.loc[sen_df['score']<3.9,'alpha'] = .5"
   ]
  },
  {
   "cell_type": "code",
   "execution_count": null,
   "metadata": {},
   "outputs": [],
   "source": [
    "# Defining a custom color palette for the bars in the bar plot\n",
    "\n",
    "sen_custom_palette = ['#A2A7A5' if score < 3.5 else '#1768AC' for score in sen_df['score']]"
   ]
  },
  {
   "cell_type": "code",
   "execution_count": null,
   "metadata": {},
   "outputs": [],
   "source": [
    "# Creating visualization\n",
    "plt.figure(figsize = (12,5))\n",
    "ax = sns.barplot(x='score',y='sen_final',data=sen_df,orient='h',palette=sen_custom_palette)\n",
    "\n",
    "# Inverting y axis values\n",
    "plt.gca().invert_yaxis()\n",
    "\n",
    "# Applying different transparencies to different bars\n",
    "for bar, alpha in zip(ax.containers[0], sen_df['alpha']):\n",
    "    bar.set_alpha(alpha)\n",
    "    \n",
    "# Creating data labels\n",
    "for p, label in zip(ax.patches, sen_df['score']):\n",
    "    width = p.get_width()-.2\n",
    "    ax.annotate(f'{label:.1f}', (width, p.get_y() + p.get_height() / 2),\n",
    "                ha='left', va='center', color='w', weight='bold')\n",
    "    \n",
    "# Formatting the title and subtitle\n",
    "r\"$\\bf{\" 'highest \\ median \\ word \\ counts' \"}$\"\n",
    "title_text = \"Essays with average sentence lengths between 16 and 35 words tended to earn higher scores.\"\n",
    "plt.title(title_text, loc='left', pad=25, fontsize= 17)    \n",
    "\n",
    "# Formatting final attributes\n",
    "plt.xlabel('Score', fontsize=14)\n",
    "plt.xticks(fontsize=12)\n",
    "plt.ylabel('Words Per Sentence', fontsize=14)\n",
    "plt.yticks(fontsize=12)\n",
    "\n",
    "# Set y-tick positions and labels\n",
    "ytick_positions = range(len(sen_df))\n",
    "yticks_labels = ['Fewer Than 10','10 to 15','16 to 20','21 to 25','26 to 30','31 to 35','More than 35']\n",
    "plt.yticks(ytick_positions, yticks_labels, fontsize=12)\n",
    "\n",
    "sns.despine()\n",
    "plt.show();"
   ]
  },
  {
   "cell_type": "code",
   "execution_count": null,
   "metadata": {},
   "outputs": [],
   "source": [
    "# Creating bins\n",
    "\n",
    "max_chars = int(round((length_data['characters_per_word'].max())))\n",
    "char_bin_width = 1\n",
    "\n",
    "char_bins = [i for i in range(0, max_chars + char_bin_width, char_bin_width)]\n",
    "length_data['char_bins'] = pd.cut(length_data['characters_per_word'],bins=char_bins,right=False)"
   ]
  },
  {
   "cell_type": "code",
   "execution_count": null,
   "metadata": {},
   "outputs": [],
   "source": [
    "# Reviewing bin sizes\n",
    "\n",
    "length_data['char_bins'].value_counts().head(10)"
   ]
  },
  {
   "cell_type": "markdown",
   "metadata": {},
   "source": [
    "The majority of essays had an average of between 4 and 5 characters per word. Since so many of the essays fall into this category, I do not create a visualization for this feature."
   ]
  },
  {
   "cell_type": "markdown",
   "metadata": {},
   "source": [
    "## 3. Aggregating Preprocessing into a Single Function"
   ]
  },
  {
   "cell_type": "markdown",
   "metadata": {},
   "source": [
    "My final step is to combine all of these steps into a single function so that I can preprocess unseen data without having to repeat all of the previous steps."
   ]
  },
  {
   "cell_type": "code",
   "execution_count": null,
   "metadata": {},
   "outputs": [],
   "source": [
    "def preprocess(log_df):\n",
    "    \n",
    "    # Action Time\n",
    "    action_time = log_df.groupby(by='id')['action_time'].sum()\n",
    "    action_time_df = pd.DataFrame({'id':action_time.index, 'action_time':action_time.values})\n",
    "    action_time_df['action_time'] = action_time_df['action_time']\n",
    "    action_time_df['action_time_%_total'] = action_time_df['action_time'] / 1800000\n",
    "    \n",
    "    # Final Word Count\n",
    "    final_word_count = log_df.groupby('id')['word_count'].last()\n",
    "    word_count_df = pd.DataFrame({'id':final_word_count.index,'word_count':final_word_count.values})\n",
    "    final_record_id_series = log_df.groupby('id')['event_id'].last()\n",
    "    final_record_ids = final_record_id_series.to_dict()\n",
    "    \n",
    "    def total_words(group):\n",
    "        final_record_id = final_record_ids[group.name]\n",
    "        word_counts = group[group['event_id'] <= final_record_id]['word_count']\n",
    "        word_diffs = word_counts.diff().where(lambda x: x > 0).sum()  \n",
    "    \n",
    "        return word_diffs\n",
    "    \n",
    "    total_words = log_df.groupby('id').apply(total_words)\n",
    "    total_words_df = pd.DataFrame({'id':total_words.index,'total_words':total_words.values})\n",
    "    word_count_df = pd.merge(word_count_df, total_words_df, on='id')\n",
    "    \n",
    "    # Final Event Count\n",
    "    event_count = log_df.groupby('id')['event_id'].last()\n",
    "    event_count_df = pd.DataFrame({'id':event_count.index,'event_count':event_count.values})\n",
    "    \n",
    "    # Activity\n",
    "    activities = ['Input', 'Move', 'Nonproduction', 'Paste', 'Remove/Cut', 'Replace']\n",
    "    \n",
    "    log_df.loc[log_df['activity'].str.contains('From',case=False), 'activity'] = 'Move'\n",
    "    log_df.loc[log_df['activity'].str.contains('From',case=False), 'activity'] = 'Move'\n",
    "    activity_data = log_df.groupby(by='id')['activity'].value_counts().unstack(fill_value=0)\n",
    "    \n",
    "    for activity in activities:\n",
    "        if activity in activity_data.columns:\n",
    "            activity_data[activity] = activity_data[activity]\n",
    "        else:\n",
    "            activity_data[activity] = 0\n",
    "    \n",
    "    activity_df = activity_data.reset_index(inplace=True)\n",
    "    \n",
    "    pivot = log_df.pivot_table(values='action_time', index='id', columns='activity', aggfunc=['sum']).fillna(0)\n",
    "    pivot.columns = pivot.columns.droplevel(level=0)\n",
    "    \n",
    "    for activity in activities:\n",
    "        if activity in pivot.columns:\n",
    "            pivot[activity] = pivot[activity]\n",
    "        else:\n",
    "            pivot[activity] = 0\n",
    "    \n",
    "    new_columns = [col + '_time' for col in pivot.columns]\n",
    "    pivot.columns = new_columns\n",
    "    pivot.reset_index(inplace=True)\n",
    "    \n",
    "    # Time of First and Last Input\n",
    "    first_input = log_df[log_df['activity'] == 'Input'].groupby('id').first()\n",
    "    first_input_df = pd.DataFrame({'id':first_input.index,'first_input':first_input['down_time']})\n",
    "    first_input_df.reset_index(drop=True,inplace=True)\n",
    "    last_input = log_df[log_df['activity'] == 'Input'].groupby('id').last()\n",
    "    last_input_df = pd.DataFrame({'id':last_input.index,'last_input':last_input['up_time']})\n",
    "    last_input_df.reset_index(drop=True,inplace=True)\n",
    "    first_last_input_df = pd.merge(first_input_df,last_input_df,on='id')\n",
    "    \n",
    "    # Inputs\n",
    "    columns = ['q', 'Space', 'Backspace', 'Shift', 'ArrowRight', 'Leftclick', 'ArrowLeft', '.', ',',\n",
    "               'ArrowDown', 'ArrowUp', 'Enter', 'CapsLock', \"'\", 'Delete', 'Unidentified', 'Control',\n",
    "               '\"', '-', '?', ';', '=', 'Tab', '/', 'Rightclick', ':', '(', ')', '\\\\', 'ContextMenu',\n",
    "               'End', '!', 'Meta', 'Alt', '[', 'c', 'v', 'NumLock', 'Insert', 'Home', 'z', 'AudioVolumeDown',\n",
    "               'F2', 'a', 'x', 'AudioVolumeUp', '$', '>', ']', '*', '%', '&', 'Dead', 's', 'Escape',\n",
    "               'ModeChange', 'F3', '<', 'AudioVolumeMute', 'F15', '+', 'ScrollLock', 'Process', 'PageDown',\n",
    "               't', 'i', '_', '`', 'PageUp', '{', '0', '#', 'Middleclick', '1', '5', 'F12', '\\x97',\n",
    "               'OS', 'e', '@', 'F11', 'r', 'MediaTrackNext', 'y', 'm', 'n', 'b', 'Clear', 'MediaPlayPause', 'o']\n",
    "    \n",
    "    down_event_data = log_df.groupby(by='id')['down_event'].value_counts().unstack(fill_value=0)\n",
    "    \n",
    "    for col in columns:\n",
    "        if col in down_event_data.columns:\n",
    "            down_event_data[col] = down_event_data[col]\n",
    "        else:\n",
    "            down_event_data[col] = 0\n",
    "    \n",
    "    down_event_df = down_event_data[columns]\n",
    "    down_event_df.reset_index(inplace='True')\n",
    "    \n",
    "            \n",
    "    # Pauses\n",
    "    def add_previous_down_time(group):\n",
    "        group['previous_down_time'] = group['down_time'].shift(1).fillna(group['down_time'])\n",
    "        return group[['id','down_time','previous_down_time']]\n",
    "\n",
    "    pause_df = log_df.groupby('id').apply(add_previous_down_time)\n",
    "    \n",
    "    pause_df['down_time_difference'] = pause_df['down_time'] - pause_df['previous_down_time']\n",
    "    pause_df['pauses'] = 0\n",
    "    pause_df.loc[pause_df['down_time_difference']>=5000,'pauses'] = 1\n",
    "    \n",
    "    pause_df['pause_time'] = 0\n",
    "    pause_df.loc[pause_df['down_time_difference']>=5000,'pause_time'] = pause_df['down_time_difference']\n",
    "    \n",
    "    pause_df = pause_df.reset_index(drop=True)\n",
    "    pause_df = pause_df[['id','pauses','pause_time']]\n",
    "    pause_df = pause_df.groupby('id').sum()\n",
    "    \n",
    "    # Merge DataFrames\n",
    "    full_df = pd.merge(action_time_df, word_count_df, on = 'id')\n",
    "    full_df = pd.merge(full_df, pivot, on = 'id')\n",
    "    full_df = pd.merge(full_df, event_count_df, on = 'id')\n",
    "    full_df = pd.merge(full_df, activity_df, on = 'id')\n",
    "    full_df = pd.merge(full_df, first_last_input_df, on = 'id')\n",
    "    full_df = pd.merge(full_df, down_event_df, on = 'id')\n",
    "    full_df = pd.merge(full_df, pause_df, on = 'id')\n",
    "    \n",
    "    # Sentence Length\n",
    "    full_df['end_punctuation'] = full_df['.'] + full_df['!'] + full_df['?']\n",
    "    full_df['sentence_length'] = full_df['word_count'] / full_df['end_punctuation']\n",
    "    full_df.loc[full_df['end_punctuation']==0,'sentence_length'] = full_df['word_count']\n",
    "    \n",
    "    # Ratios\n",
    "    full_df['Move_Ratio'] = full_df['Move'] / full_df['event_count']\n",
    "    full_df['Paste_Ratio'] = full_df['Paste'] / full_df['event_count']\n",
    "    full_df['Replace_Ratio'] = full_df['Replace'] / full_df['event_count']\n",
    "    full_df['Nonproduction_Ratio'] = full_df['Nonproduction'] / full_df['event_count']\n",
    "    full_df['Remove_Ratio'] = full_df['Remove/Cut'] / full_df['event_count']\n",
    "    full_df['Input_Ratio'] = full_df['Input'] / full_df['event_count']\n",
    "    full_df['revision_events'] = full_df['Move'] + full_df['Paste'] + full_df['Replace'] + full_df['Remove/Cut']\n",
    "    full_df['Revision_Ratio'] =  full_df['revision_events'] / full_df['event_count']\n",
    "    full_df['characters_per_pause'] = full_df['q'] / full_df['pauses']\n",
    "    full_df.loc[full_df['pauses']==0,'characters_per_pause'] = full_df['q']\n",
    "    full_df['Move_Time_Ratio'] = full_df['Move_time'] / full_df['action_time']\n",
    "    full_df['Paste_Time_Ratio'] = full_df['Paste_time'] / full_df['action_time']\n",
    "    full_df['Replace_Time_Ratio'] = full_df['Replace_time'] / full_df['action_time']\n",
    "    full_df['Nonproduction_Time_Ratio'] = full_df['Nonproduction_time'] / full_df['action_time']\n",
    "    full_df['Remove_Time_Ratio'] = full_df['Remove/Cut_time'] / full_df['action_time']\n",
    "    full_df['Input_Time_Ratio'] = full_df['Input_time'] / full_df['action_time']\n",
    "    full_df['revision_time'] = full_df['Move_time'] + full_df['Paste_time'] + full_df['Replace_time'] + full_df['Remove/Cut_time']\n",
    "    full_df['Revision_Time_Ratio'] =  full_df['revision_time'] / full_df['action_time']\n",
    "    full_df['action_time_per_pause'] = full_df['action_time'] / full_df['pauses']\n",
    "    full_df.loc[full_df['pauses']==0,'action_time_per_pause'] = full_df['action_time']\n",
    "    full_df['action_time_per_pause_time'] = full_df['action_time'] / full_df['pause_time']\n",
    "    full_df.loc[full_df['pause_time']==0,'action_time_per_pause_time'] = full_df['action_time']\n",
    "    full_df['characters_per_word'] = full_df['q'] / full_df['total_words']\n",
    "    full_df.loc[full_df['total_words']==0,'characters_per_word'] = full_df['q']\n",
    "    \n",
    "    return full_df"
   ]
  },
  {
   "cell_type": "markdown",
   "metadata": {},
   "source": [
    "With the preprocessing function ready, I move on to modeling in the next notebook."
   ]
  }
 ],
 "metadata": {
  "kernelspec": {
   "display_name": "Python (learn-env)",
   "language": "python",
   "name": "learn-env"
  },
  "language_info": {
   "codemirror_mode": {
    "name": "ipython",
    "version": 3
   },
   "file_extension": ".py",
   "mimetype": "text/x-python",
   "name": "python",
   "nbconvert_exporter": "python",
   "pygments_lexer": "ipython3",
   "version": "3.8.5"
  }
 },
 "nbformat": 4,
 "nbformat_minor": 4
}
